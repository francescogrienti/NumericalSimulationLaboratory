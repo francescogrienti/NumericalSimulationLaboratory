{
 "cells": [
  {
   "cell_type": "code",
   "execution_count": 1,
   "id": "29ed6483-2495-43e3-a3a0-799943b2b188",
   "metadata": {},
   "outputs": [],
   "source": [
    "import numpy as np\n",
    "import matplotlib.pyplot as plt "
   ]
  },
  {
   "cell_type": "markdown",
   "id": "9d7be734-0b4e-44f6-a126-901dea4bf08d",
   "metadata": {},
   "source": [
    "**INDEPENDENT GA SEARCHES**"
   ]
  },
  {
   "cell_type": "code",
   "execution_count": 2,
   "id": "e7b88b12-06ab-4fb6-bdef-5cfdc323d16a",
   "metadata": {},
   "outputs": [],
   "source": [
    "best_path_0_x, best_path_0_y = np.loadtxt(\"/home/francesco/NumericalSimulationLaboratory/LSN_lecture_10/exercise_10_02/independent/best_path_0_coordinates.dat\", unpack=True, usecols=(0,1))\n",
    "best_path_1_x, best_path_1_y = np.loadtxt(\"/home/francesco/NumericalSimulationLaboratory/LSN_lecture_10/exercise_10_02/independent/best_path_1_coordinates.dat\", unpack=True, usecols=(0,1))\n",
    "best_path_2_x, best_path_2_y = np.loadtxt(\"/home/francesco/NumericalSimulationLaboratory/LSN_lecture_10/exercise_10_02/independent/best_path_2_coordinates.dat\", unpack=True, usecols=(0,1))\n",
    "best_path_3_x, best_path_3_y = np.loadtxt(\"/home/francesco/NumericalSimulationLaboratory/LSN_lecture_10/exercise_10_02/independent/best_path_3_coordinates.dat\", unpack=True, usecols=(0,1))\n",
    "\n",
    "gen_0, best_loss_0, best_hm_loss_0 = np.loadtxt(\"/home/francesco/NumericalSimulationLaboratory/LSN_lecture_10/exercise_10_02/independent/average_0.dat\", unpack=True, usecols=(0,1,2))\n",
    "gen_1, best_loss_1, best_hm_loss_1 = np.loadtxt(\"/home/francesco/NumericalSimulationLaboratory/LSN_lecture_10/exercise_10_02/independent/average_1.dat\", unpack=True, usecols=(0,1,2))\n",
    "gen_2, best_loss_2, best_hm_loss_2 = np.loadtxt(\"/home/francesco/NumericalSimulationLaboratory/LSN_lecture_10/exercise_10_02/independent/average_2.dat\", unpack=True, usecols=(0,1,2))\n",
    "gen_3, best_loss_3, best_hm_loss_3 = np.loadtxt(\"/home/francesco/NumericalSimulationLaboratory/LSN_lecture_10/exercise_10_02/independent/average_3.dat\", unpack=True, usecols=(0,1,2))"
   ]
  },
  {
   "cell_type": "markdown",
   "id": "826f1795-be6a-44b9-811d-009afef34ac2",
   "metadata": {},
   "source": [
    "**BEST PATHS**"
   ]
  },
  {
   "cell_type": "code",
   "execution_count": null,
   "id": "9516b139-02cc-4ea5-9dc1-56f7f469d3b1",
   "metadata": {},
   "outputs": [
    {
     "data": {
      "text/plain": [
       "<matplotlib.legend.Legend at 0x7f982f6056f0>"
      ]
     },
     "execution_count": 3,
     "metadata": {},
     "output_type": "execute_result"
    }
   ],
   "source": [
    "fig = plt.figure(figsize=(12, 8))\n",
    "\n",
    "ax_1 = fig.add_subplot(2, 2, 1)\n",
    "ax_1.plot(best_path_0_x, best_path_0_y, color=\"green\", label=\"Best path - process = 0\", marker=\".\")\n",
    "ax_1.set_xlabel('X', fontsize=12, fontweight='bold')\n",
    "ax_1.set_ylabel('Y', fontsize=12, fontweight='bold')\n",
    "ax_1.grid(True)\n",
    "ax_1.legend()\n",
    "ax_1.set_title(\"Italian Provinces\", fontsize=14, fontweight='bold')\n",
    "\n",
    "ax_2 = fig.add_subplot(2, 2, 2)\n",
    "ax_2.plot(best_path_1_x, best_path_1_y, color = \"red\", label=\"Best path - process = 1\", marker=\".\")\n",
    "ax_2.set_xlabel('X', fontsize=12, fontweight='bold')\n",
    "ax_2.set_ylabel('Y', fontsize=12, fontweight='bold')\n",
    "ax_2.grid(True)\n",
    "ax_2.legend()\n",
    "ax_2.set_title(\"Italian Provinces\", fontsize=14, fontweight='bold')\n",
    "\n",
    "ax_3 = fig.add_subplot(2, 2, 3)\n",
    "ax_3.plot(best_path_2_x, best_path_2_y, color=\"blue\", label=\"Best path - process = 2\", marker=\".\")\n",
    "ax_3.set_xlabel('X', fontsize=12, fontweight='bold')\n",
    "ax_3.set_ylabel('Y', fontsize=12, fontweight='bold')\n",
    "ax_3.grid(True)\n",
    "ax_3.legend()\n",
    "\n",
    "ax_4 = fig.add_subplot(2, 2, 4)\n",
    "ax_4.plot(best_path_3_x, best_path_3_y, color = \"purple\", label=\"Best path - process = 3\", marker=\".\")\n",
    "ax_4.set_xlabel('X', fontsize=12, fontweight='bold')\n",
    "ax_4.set_ylabel('Y', fontsize=12, fontweight='bold')\n",
    "ax_4.grid(True)\n",
    "ax_4.legend()"
   ]
  },
  {
   "cell_type": "markdown",
   "id": "598a90cd-737e-418a-8172-e2033ccf620e",
   "metadata": {},
   "source": [
    "**BEST LOSSES**"
   ]
  },
  {
   "cell_type": "code",
   "execution_count": null,
   "id": "e535ad1c-cedd-4de6-993f-cbed093c7ea6",
   "metadata": {},
   "outputs": [],
   "source": [
    "# Crea una nuova figura con dimensioni specifiche\n",
    "fig = plt.figure(figsize=(10, 8))\n",
    "\n",
    "# Aggiungi i subplots\n",
    "ax_1 = fig.add_subplot(2, 2, 1)\n",
    "ax_1.plot(gen_0, best_loss_0, label='Best loss')\n",
    "ax_1.plot(gen_0, best_hm_loss_0, label='Best half mean loss')\n",
    "ax_1.axhline(best_loss_0[599], color = \"k\", linestyle = \"--\", label = \"Best: \" + str(best_loss_0[599]))\n",
    "ax_1.set_title('Italian provinces - process 0') \n",
    "ax_1.set_xlabel('Generation')\n",
    "ax_1.set_ylabel('Path length')\n",
    "ax_1.legend()\n",
    "ax_1.grid()\n",
    "\n",
    "ax_2 = fig.add_subplot(2, 2, 2)\n",
    "ax_2.plot(gen_1, best_loss_1, label='Best loss')\n",
    "ax_2.plot(gen_1, best_hm_loss_1, label='Best half mean loss')\n",
    "ax_2.axhline(best_loss_1[599], color = \"k\", linestyle = \"--\", label = \"Best: \" + str(best_loss_1[599]))\n",
    "ax_2.set_title('Italian provinces - process 1') \n",
    "ax_2.set_xlabel('Generation')\n",
    "ax_2.set_ylabel('Path length')\n",
    "ax_2.legend()\n",
    "ax_2.grid()\n",
    "\n",
    "ax_3 = fig.add_subplot(2, 2, 3)\n",
    "ax_3.plot(gen_2, best_loss_2, label='Best loss')\n",
    "ax_3.plot(gen_2, best_hm_loss_2, label='Best half mean loss')\n",
    "ax_3.axhline(best_loss_2[599], color = \"k\", linestyle = \"--\", label = \"Best: \" + str(best_loss_2[599]))\n",
    "ax_3.set_title('Italian provinces - process 2') \n",
    "ax_3.set_xlabel('Generation')\n",
    "ax_3.set_ylabel('Path length')\n",
    "ax_3.legend()\n",
    "ax_3.grid()\n",
    "\n",
    "ax_4 = fig.add_subplot(2, 2, 4)\n",
    "ax_4.plot(gen_3, best_loss_3, label='Best loss')\n",
    "ax_4.plot(gen_3, best_hm_loss_3, label='Best half mean loss')\n",
    "ax_4.axhline(best_loss_3[599], color = \"k\", linestyle = \"--\", label = \"Best: \" + str(best_loss_3[599]))\n",
    "ax_4.set_title('Italian provinces - process 3') \n",
    "ax_4.set_xlabel('Generation')\n",
    "ax_4.set_ylabel('Path length')\n",
    "ax_4.legend()\n",
    "ax_4.grid()\n",
    "\n",
    "# Aggiungi spazio tra i subplots\n",
    "plt.subplots_adjust(hspace=0.4, wspace=0.4)\n",
    "\n",
    "# Mostra la figura con i subplots\n",
    "plt.show()\n"
   ]
  },
  {
   "cell_type": "markdown",
   "id": "677179cf-9bc6-47c8-b931-1787a17f10fb",
   "metadata": {},
   "source": [
    "**GA SEARCHES WITH MIGRATIONS**"
   ]
  },
  {
   "cell_type": "code",
   "execution_count": null,
   "id": "1b0a5f84-d09b-4c48-b5bd-ad280e6e11da",
   "metadata": {},
   "outputs": [],
   "source": [
    "best_path_0_x, best_path_0_y = np.loadtxt(\"/home/francesco/NumericalSimulationLaboratory/LSN_lecture_10/exercise_10_02/migrations/best_path_0_coordinates.dat\", unpack=True, usecols=(0,1))\n",
    "best_path_1_x, best_path_1_y = np.loadtxt(\"/home/francesco/NumericalSimulationLaboratory/LSN_lecture_10/exercise_10_02/migrations/best_path_1_coordinates.dat\", unpack=True, usecols=(0,1))\n",
    "best_path_2_x, best_path_2_y = np.loadtxt(\"/home/francesco/NumericalSimulationLaboratory/LSN_lecture_10/exercise_10_02/migrations/best_path_2_coordinates.dat\", unpack=True, usecols=(0,1))\n",
    "best_path_3_x, best_path_3_y = np.loadtxt(\"/home/francesco/NumericalSimulationLaboratory/LSN_lecture_10/exercise_10_02/migrations/best_path_3_coordinates.dat\", unpack=True, usecols=(0,1))\n",
    "\n",
    "gen_0, best_loss_0, best_hm_loss_0 = np.loadtxt(\"/home/francesco/NumericalSimulationLaboratory/LSN_lecture_10/exercise_10_02/migrations/average_0.dat\", unpack=True, usecols=(0,1,2))\n",
    "gen_1, best_loss_1, best_hm_loss_1 = np.loadtxt(\"/home/francesco/NumericalSimulationLaboratory/LSN_lecture_10/exercise_10_02/migrations/average_1.dat\", unpack=True, usecols=(0,1,2))\n",
    "gen_2, best_loss_2, best_hm_loss_2 = np.loadtxt(\"/home/francesco/NumericalSimulationLaboratory/LSN_lecture_10/exercise_10_02/migrations/average_2.dat\", unpack=True, usecols=(0,1,2))\n",
    "gen_3, best_loss_3, best_hm_loss_3 = np.loadtxt(\"/home/francesco/NumericalSimulationLaboratory/LSN_lecture_10/exercise_10_02/migrations/average_3.dat\", unpack=True, usecols=(0,1,2))"
   ]
  },
  {
   "cell_type": "markdown",
   "id": "7326f983-effa-46ac-9f18-917dbdb7fcf0",
   "metadata": {},
   "source": [
    "**BEST PATHS : DA MODIFICARE PERCHÈ FA CAGARE**"
   ]
  },
  {
   "cell_type": "code",
   "execution_count": null,
   "id": "e3686491-5c3a-4827-9352-71d8016cd9eb",
   "metadata": {},
   "outputs": [],
   "source": [
    "fig = plt.figure(figsize=(12, 8))\n",
    "\n",
    "ax_1 = fig.add_subplot(2, 2, 1)\n",
    "ax_1.plot(best_path_0_x, best_path_0_y, color=\"green\", label=\"Best path - process = 0\", marker=\".\")\n",
    "ax_1.set_xlabel('X', fontsize=12, fontweight='bold')\n",
    "ax_1.set_ylabel('Y', fontsize=12, fontweight='bold')\n",
    "ax_1.grid(True)\n",
    "ax_1.legend()\n",
    "ax_1.set_title(\"Italian Provinces\", fontsize=14, fontweight='bold')\n",
    "\n",
    "ax_2 = fig.add_subplot(2, 2, 2)\n",
    "ax_2.plot(best_path_1_x, best_path_1_y, color = \"red\", label=\"Best path - process = 1\", marker=\".\")\n",
    "ax_2.set_xlabel('X', fontsize=12, fontweight='bold')\n",
    "ax_2.set_ylabel('Y', fontsize=12, fontweight='bold')\n",
    "ax_2.grid(True)\n",
    "ax_2.legend()\n",
    "ax_2.set_title(\"Italian Provinces\", fontsize=14, fontweight='bold')\n",
    "\n",
    "ax_3 = fig.add_subplot(2, 2, 3)\n",
    "ax_3.plot(best_path_2_x, best_path_2_y, color=\"blue\", label=\"Best path - process = 2\", marker=\".\")\n",
    "ax_3.set_xlabel('X', fontsize=12, fontweight='bold')\n",
    "ax_3.set_ylabel('Y', fontsize=12, fontweight='bold')\n",
    "ax_3.grid(True)\n",
    "ax_3.legend()\n",
    "\n",
    "ax_4 = fig.add_subplot(2, 2, 4)\n",
    "ax_4.plot(best_path_3_x, best_path_3_y, color = \"purple\", label=\"Best path - process = 3\", marker=\".\")\n",
    "ax_4.set_xlabel('X', fontsize=12, fontweight='bold')\n",
    "ax_4.set_ylabel('Y', fontsize=12, fontweight='bold')\n",
    "ax_4.grid(True)\n",
    "ax_4.legend()"
   ]
  },
  {
   "cell_type": "markdown",
   "id": "2ad050db-f790-475a-bd3d-9c061426f6b4",
   "metadata": {},
   "source": [
    "**BEST LOSSES**"
   ]
  },
  {
   "cell_type": "code",
   "execution_count": null,
   "id": "7b57dfcb-50f6-4e25-b243-aed6f521ad59",
   "metadata": {},
   "outputs": [],
   "source": [
    "# Crea una nuova figura con dimensioni specifiche\n",
    "fig = plt.figure(figsize=(10, 8))\n",
    "\n",
    "# Aggiungi i subplots\n",
    "ax_1 = fig.add_subplot(2, 2, 1)\n",
    "ax_1.plot(gen_0, best_loss_0, label='Best loss')\n",
    "ax_1.plot(gen_0, best_hm_loss_0, label='Best half mean loss')\n",
    "ax_1.axhline(best_loss_0[999], color = \"k\", linestyle = \"--\", label = \"Best: \" + str(best_loss_0[999]))\n",
    "ax_1.set_title('Italian provinces - process 0') \n",
    "ax_1.set_xlabel('Generation')\n",
    "ax_1.set_ylabel('Path length')\n",
    "ax_1.legend()\n",
    "ax_1.grid()\n",
    "\n",
    "ax_2 = fig.add_subplot(2, 2, 2)\n",
    "ax_2.plot(gen_1, best_loss_1, label='Best loss')\n",
    "ax_2.plot(gen_1, best_hm_loss_1, label='Best half mean loss')\n",
    "ax_2.axhline(best_loss_1[999], color = \"k\", linestyle = \"--\", label = \"Best: \" + str(best_loss_1[999]))\n",
    "ax_2.set_title('Italian provinces - process 1') \n",
    "ax_2.set_xlabel('Generation')\n",
    "ax_2.set_ylabel('Path length')\n",
    "ax_2.legend()\n",
    "ax_2.grid()\n",
    "\n",
    "ax_3 = fig.add_subplot(2, 2, 3)\n",
    "ax_3.plot(gen_2, best_loss_2, label='Best loss')\n",
    "ax_3.plot(gen_2, best_hm_loss_2, label='Best half mean loss')\n",
    "ax_3.axhline(best_loss_2[999], color = \"k\", linestyle = \"--\", label = \"Best: \" + str(best_loss_2[999]))\n",
    "ax_3.set_title('Italian provinces - process 2') \n",
    "ax_3.set_xlabel('Generation')\n",
    "ax_3.set_ylabel('Path length')\n",
    "ax_3.legend()\n",
    "ax_3.grid()\n",
    "\n",
    "ax_4 = fig.add_subplot(2, 2, 4)\n",
    "ax_4.plot(gen_3, best_loss_3, label='Best loss')\n",
    "ax_4.plot(gen_3, best_hm_loss_3, label='Best half mean loss')\n",
    "ax_4.axhline(best_loss_3[999], color = \"k\", linestyle = \"--\", label = \"Best: \" + str(best_loss_3[999]))\n",
    "ax_4.set_title('Italian provinces - process 3') \n",
    "ax_4.set_xlabel('Generation')\n",
    "ax_4.set_ylabel('Path length')\n",
    "ax_4.legend()\n",
    "ax_4.grid()\n",
    "\n",
    "# Aggiungi spazio tra i subplots\n",
    "plt.subplots_adjust(hspace=0.4, wspace=0.4)\n",
    "\n",
    "# Mostra la figura con i subplots\n",
    "plt.show()\n"
   ]
  }
 ],
 "metadata": {
  "kernelspec": {
   "display_name": "Python 3 (ipykernel)",
   "language": "python",
   "name": "python3"
  },
  "language_info": {
   "codemirror_mode": {
    "name": "ipython",
    "version": 3
   },
   "file_extension": ".py",
   "mimetype": "text/x-python",
   "name": "python",
   "nbconvert_exporter": "python",
   "pygments_lexer": "ipython3",
   "version": "3.10.12"
  }
 },
 "nbformat": 4,
 "nbformat_minor": 5
}
