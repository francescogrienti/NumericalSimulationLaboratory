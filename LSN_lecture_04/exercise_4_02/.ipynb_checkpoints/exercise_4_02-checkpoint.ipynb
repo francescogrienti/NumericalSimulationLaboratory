{
 "cells": [
  {
   "cell_type": "markdown",
   "id": "0d715d81-70ab-4250-818f-35b00c4fa099",
   "metadata": {},
   "source": [
    "**EXERCISE_04_2**\n"
   ]
  },
  {
   "cell_type": "code",
   "execution_count": null,
   "id": "dc4e5571-6231-4eba-bd72-004d05a33622",
   "metadata": {},
   "outputs": [],
   "source": [
    "import matplotlib\n",
    "import matplotlib.pyplot as plt\n",
    "import numpy as np\n",
    "import math\n",
    "import scipy\n",
    "import os "
   ]
  },
  {
   "cell_type": "markdown",
   "id": "053208f4-7a8a-4eff-b378-89ddda56a914",
   "metadata": {},
   "source": [
    "**SOLID PHASE** "
   ]
  },
  {
   "cell_type": "code",
   "execution_count": null,
   "id": "9cc2210d-6021-479c-9035-597b79086901",
   "metadata": {},
   "outputs": [],
   "source": [
    "kinetic_energy = np.loadtxt(\"/home/francesco/NumericalSimulationLaboratory/LSN_lecture_04/exercise_4_02/NSL_SIMULATOR/OUTPUT/OUTPUT_SOLID/kinetic_energy.dat\")\n",
    "potential_energy = np.loadtxt(\"/home/francesco/NumericalSimulationLaboratory/LSN_lecture_04/exercise_4_02/NSL_SIMULATOR/OUTPUT/OUTPUT_SOLID/potential_energy.dat\")\n",
    "pressure = np.loadtxt(\"/home/francesco/NumericalSimulationLaboratory/LSN_lecture_04/exercise_4_02/NSL_SIMULATOR/OUTPUT/OUTPUT_SOLID/pressure.dat\")\n",
    "temperature = np.loadtxt(\"/home/francesco/NumericalSimulationLaboratory/LSN_lecture_04/exercise_4_02/NSL_SIMULATOR/OUTPUT/OUTPUT_SOLID/temperature.dat\")\n",
    "total_energy = np.loadtxt(\"/home/francesco/NumericalSimulationLaboratory/LSN_lecture_04/exercise_4_02/NSL_SIMULATOR/OUTPUT/OUTPUT_SOLID/total_energy.dat\")"
   ]
  },
  {
   "cell_type": "code",
   "execution_count": null,
   "id": "d20fad89-a64b-4762-afef-e68ecf63f495",
   "metadata": {},
   "outputs": [],
   "source": [
    "M = 100000 #Number of throws\n",
    "N = 100 #Number of blocks\n",
    "L = (int)(M/N)#Number of throws per block\n",
    "x = np.arange(N) \n",
    "x *= L "
   ]
  },
  {
   "cell_type": "code",
   "execution_count": null,
   "id": "41f2a9ff-4d7c-4c7f-891d-369f996b73af",
   "metadata": {},
   "outputs": [],
   "source": [
    "fig = plt.figure(figsize=(12,8))\n",
    "\n",
    "ax_1 = fig.add_subplot(3, 2, 1)\n",
    "ax_1.errorbar(x,kinetic_energy[:,2],yerr=kinetic_energy[:,3])\n",
    "ax_1.set_xlabel('$N_{steps}$')\n",
    "ax_1.set_ylabel('Kinetic energy')\n",
    "ax_1.grid(True)\n",
    "ax_1.set_title(\"KINETIC ENERGY\")\n",
    "\n",
    " \n",
    "ax_2 = fig.add_subplot(3, 2, 2)\n",
    "ax_2.errorbar(x,potential_energy[:,2],yerr=potential_energy[:,3])\n",
    "ax_2.set_xlabel('$N_{steps}$')\n",
    "ax_2.set_ylabel('Potential energy')\n",
    "ax_2.grid(True)\n",
    "ax_2.set_title(\"POTENTIAL ENERGY\")\n",
    "\n",
    "ax_3 = fig.add_subplot(3, 2, 3)\n",
    "ax_3.errorbar(x,pressure[:,2],yerr=pressure[:,3])\n",
    "ax_3.set_xlabel('$N_{steps}$')\n",
    "ax_3.set_ylabel('Pressure')\n",
    "ax_3.grid(True)\n",
    "ax_3.set_title(\"PRESSURE\")\n",
    "\n",
    "ax_4 = fig.add_subplot(3, 2, 4)\n",
    "ax_4.errorbar(x,temperature[:,2],yerr=temperature[:,3])\n",
    "ax_4.set_xlabel('$N_{steps}$')\n",
    "ax_4.set_ylabel('Temperature')\n",
    "ax_4.grid(True)\n",
    "ax_4.set_title(\"TEMPERATURE\")\n",
    "\n",
    "ax_5 = fig.add_subplot(3, 2, 5)\n",
    "ax_5.errorbar(x,total_energy[:,2],yerr=total_energy[:,3])\n",
    "ax_5.set_xlabel('$N_{steps}$')\n",
    "ax_5.set_ylabel('Total energy')\n",
    "ax_5.grid(True)\n",
    "ax_5.set_title(\"TOTAL ENERGY\")\n"
   ]
  },
  {
   "cell_type": "markdown",
   "id": "dfaa3e27-62af-4d48-b1fc-6ce5180cf186",
   "metadata": {},
   "source": [
    "**LIQUID PHASE** "
   ]
  },
  {
   "cell_type": "markdown",
   "id": "1e9de464-599a-4931-a3dd-2b04d458b7a7",
   "metadata": {},
   "source": [
    "**GASEOUS PHASE**"
   ]
  },
  {
   "cell_type": "code",
   "execution_count": null,
   "id": "fa102fe6-110f-4a45-adc9-a3231140c09f",
   "metadata": {},
   "outputs": [],
   "source": []
  }
 ],
 "metadata": {
  "kernelspec": {
   "display_name": "Python 3 (ipykernel)",
   "language": "python",
   "name": "python3"
  },
  "language_info": {
   "codemirror_mode": {
    "name": "ipython",
    "version": 3
   },
   "file_extension": ".py",
   "mimetype": "text/x-python",
   "name": "python",
   "nbconvert_exporter": "python",
   "pygments_lexer": "ipython3",
   "version": "3.10.12"
  }
 },
 "nbformat": 4,
 "nbformat_minor": 5
}
