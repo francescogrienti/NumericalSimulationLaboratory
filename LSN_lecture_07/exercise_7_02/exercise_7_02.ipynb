{
 "cells": [
  {
   "cell_type": "markdown",
   "id": "88fe57f4-cc80-4e17-8735-de7033f254dd",
   "metadata": {},
   "source": [
    "**EXERCISE_7_02**"
   ]
  },
  {
   "cell_type": "code",
   "execution_count": null,
   "id": "5dcd3393-a736-415a-8be2-e88591cf8661",
   "metadata": {},
   "outputs": [],
   "source": []
  }
 ],
 "metadata": {
  "kernelspec": {
   "display_name": "Python 3 (ipykernel)",
   "language": "python",
   "name": "python3"
  },
  "language_info": {
   "codemirror_mode": {
    "name": "ipython",
    "version": 3
   },
   "file_extension": ".py",
   "mimetype": "text/x-python",
   "name": "python",
   "nbconvert_exporter": "python",
   "pygments_lexer": "ipython3",
   "version": "3.10.12"
  }
 },
 "nbformat": 4,
 "nbformat_minor": 5
}
