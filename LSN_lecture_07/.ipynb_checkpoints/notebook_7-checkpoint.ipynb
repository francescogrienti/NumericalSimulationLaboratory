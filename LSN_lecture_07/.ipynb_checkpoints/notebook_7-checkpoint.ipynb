{
 "cells": [
  {
   "cell_type": "markdown",
   "id": "88fe57f4-cc80-4e17-8735-de7033f254dd",
   "metadata": {},
   "source": [
    "**NOTEBOOK 7**"
   ]
  },
  {
   "cell_type": "markdown",
   "id": "afff4fed-aff6-4c4e-8b8e-269d295446c5",
   "metadata": {},
   "source": [
    "### Exercise 07.1\n",
    "In this exercise it was asked to add tail corrections to potential energy $U$ and pressure $P$ equations in the Molecular Dynamics code provided in exercise 4. In fact, in the computations carried out in exercise 4 both $U$ and $P$ had a cut-off radius, beyond which the interactions among atoms were neglected. The following relations hold for the tail corrections ($U$ and $P$ respectively): $$ \\frac{\\langle V_{LJ}\\rangle_{tail}}{N} \\approx 8\\pi\\rho_{LJ}\\epsilon \\Big[\\frac{1}{9r_c^9} - \\frac{1}{3r_c^3}\\Big],$$ $$ \\frac{\\langle W_{LJ}\\rangle_{tail}}{3N\\epsilon} \\approx 32\\pi\\rho_{LJ} \\Big[\\frac{1}{9r_c^9} - \\frac{1}{6r_c^3}\\Big].$$\n",
    "In the NSL simulator code we have provided, include tail corrections for potential energy, $U$, and pressure $P$."
   ]
  },
  {
   "cell_type": "markdown",
   "id": "13b17192-74c2-4112-83cb-03ab3011d7c2",
   "metadata": {},
   "source": [
    "### Exercise 07.2\n",
    "In this exercise it was asked to simulate the same system of exercise 4 leveraging, instead of the Molecular Dynamics code, the Monte Carlo version of it. Therefore, in this case the system is considered in the canonical ensemble (NVT) and the temperature is thus kept constant, so there is no need to start the simulation from a different temperature and wait for it to stabilize.  \n",
    "In order to satisfy the 50% rule in Metropolis Algorithm, the following delta-values were chosen: \n",
    "\n",
    "- $\\delta_{solid} = 0.07$;\n",
    "- $\\delta_{liquid} = 0.12$;\n",
    "- $\\delta_{gas} = 6.0$ (even though here acceptance $\\sim$ 60%); \n",
    "\n",
    "Use the NSL simulator code to <span style=\"color:red\">print out instantaneous values of potential energy per particle, $U/N$, along **equilibrated** Monte Carlo simulations</span> (of $M=5\\times 10^5$ MC steps and where the Metropolis acceptance ratio has been fixed approximately to 50%) in the following thermodynamic conditions:\n",
    "- solid phase: $\\rho^\\star = 1.1$, $T^\\star = 0.8$ (cut-off radius: $r_c = 2.2$)\n",
    "- liquid phase: $\\rho^\\star = 0.8$, $T^\\star = 1.1$ (cut-off radius: $r_c = 2.5$)\n",
    "- gas phase: $\\rho^\\star = 0.05$, $T^\\star = 1.2$ (cut-off radius: $r_c = 5.0$)"
   ]
  },
  {
   "cell_type": "markdown",
   "id": "38691903-a801-441d-be0b-c330a0a55048",
   "metadata": {},
   "source": [
    "1. <span style=\"color:red\">Once this data has been produced, compute and make pictures with a python script of the autocorrelation functions of $U/N$ to approximately estimate how large the blocks in your simulations should be.\n",
    "2. Use the same data to study, with a python script, the estimation of the statistical uncertainties of the expectation value of $U/N$ for different size of the blocks in the data blocking technique, from $L=M/N=10$ to $L=5\\times 10^3$, being $N$ the number of blocks. <span style=\"color:red\">Make pictures of these statistical uncertainties as a function of $L$.</span> What you observe in the statistical uncertainties after that the block size is large enough (from the point of view of the data blocking technique)?"
   ]
  },
  {
   "cell_type": "code",
   "execution_count": null,
   "id": "5dcd3393-a736-415a-8be2-e88591cf8661",
   "metadata": {},
   "outputs": [],
   "source": [
    "import matplotlib.pyplot as plt\n",
    "import numpy as np \n",
    "import math"
   ]
  },
  {
   "cell_type": "code",
   "execution_count": null,
   "id": "5d47d72a-ff1b-4e99-8798-1c6507994773",
   "metadata": {},
   "outputs": [],
   "source": [
    "#read the csv data\n",
    "instant_p_energy_solid = np.loadtxt(\"/home/francesco/NumericalSimulationLaboratory/LSN_lecture_07/exercise_7_02/NSL_SIMULATOR/OUTPUT/OUTPUT_SOLID/instant_penergy.dat\")\n",
    "instant_p_energy_liquid = np.loadtxt(\"/home/francesco/NumericalSimulationLaboratory/LSN_lecture_07/exercise_7_02/NSL_SIMULATOR/OUTPUT/OUTPUT_LIQUID/instant_penergy.dat\")\n",
    "instant_p_energy_gas = np.loadtxt(\"/home/francesco/NumericalSimulationLaboratory/LSN_lecture_07/exercise_7_02/NSL_SIMULATOR/OUTPUT/OUTPUT_GAS/instant_penergy.dat\")"
   ]
  },
  {
   "cell_type": "code",
   "execution_count": null,
   "id": "359a9d87-ce4a-4937-8ca3-ae7fdd1f99b0",
   "metadata": {},
   "outputs": [],
   "source": [
    "M = 2000 #Number of throws\n",
    "x_eq = np.arange(M)\n",
    "\n",
    "plt.figure(figsize=(12,6))\n",
    "plt.plot(x_eq, instant_p_energy_solid[0:2000], label=\"Solid\", color=\"blue\")\n",
    "plt.plot(x_eq, instant_p_energy_liquid[0:2000], label=\"Liquid\", color=\"darkblue\")\n",
    "plt.plot(x_eq, instant_p_energy_gas[0:2000], label=\"Gas\", color=\"g\")\n",
    "plt.xlabel('$N_{steps}$', fontsize=15)\n",
    "plt.ylabel(\"U/N\", fontsize=15)\n",
    "plt.title(\"Instantaneous Potential Energy U/N\", fontsize=15)\n",
    "plt.legend()\n",
    "plt.grid(True)\n",
    "plt.show()\n"
   ]
  },
  {
   "cell_type": "markdown",
   "id": "d187eb63-c791-4244-bdbc-341e6c01a550",
   "metadata": {},
   "source": [
    "With the data plotted above, an investigation on the autocorrelation of the values of $U/N$ was carried out in order to determine the typical time-scale in which the autocorrelation decreases. Jointly with the  plot on the statistical uncertainty below, the autocorrelation plot helps to estimate how large should be the blocks in the blocking method techinque. The autocorrelation was computed using the relation $$\\chi(t) = \\frac{\\frac{1}{t_{max}-t}\\sum_0^{t_{max}-t} m(t')m(t'+t)-\\frac{1}{t_{max}-t} \\sum_0^{t_{max}-t} m(t')\\times\\frac{1}{t_{max}-t}\\sum_0^{t_{max}-t} m(t'+t)}{\\frac{1}{t_{max}}\\sum_0^{t_{max}} m^2(t')-\\left(\\frac{1}{t_{max}}\\sum_0^{t_{max}} m(t')\\right)^2 }.$$"
   ]
  },
  {
   "cell_type": "code",
   "execution_count": null,
   "id": "38de0cce-88fa-4bc4-bfec-22683fb37cea",
   "metadata": {},
   "outputs": [],
   "source": [
    "#AUTOCORRELATION FUNCTION \n",
    "N = 100000\n",
    "tmax = N\n",
    "taumax = 200\n",
    "\n",
    "# Funzione per calcolare l'autocorrelazione\n",
    "def autocorrelation(instant_p_energy):\n",
    "    chi = []\n",
    "    for tau in range(taumax):\n",
    "        s1=0\n",
    "        s2=0\n",
    "        s3=0\n",
    "        s4=0\n",
    "        s5=0\n",
    "        for tp in range(tmax-tau):\n",
    "            s1 += instant_p_energy[tp]*instant_p_energy[tp+tau]\n",
    "            s2 += instant_p_energy[tp]\n",
    "            s3 += instant_p_energy[tp+tau]\n",
    "\n",
    "        for tp in range(tmax):\n",
    "            s4 += instant_p_energy[tp]*instant_p_energy[tp]\n",
    "            s5 += instant_p_energy[tp]\n",
    "\n",
    "        fatt = 1/(tmax-tau)\n",
    "        fatt2 = 1/tmax\n",
    "\n",
    "        num = fatt*s1-fatt*s2*fatt*s3\n",
    "        den = fatt2*s4 - (fatt2*s5)*(fatt2*s5)\n",
    "\n",
    "        chi.append(num/den)\n",
    "    \n",
    "    return chi\n",
    "\n",
    "# Calcolo dell'autocorrelazione per solido, liquido e gas\n",
    "chi_solid = autocorrelation(instant_p_energy_solid)\n",
    "chi_liquid = autocorrelation(instant_p_energy_liquid)\n",
    "chi_gas = autocorrelation(instant_p_energy_gas)\n",
    "\n",
    "# Grafico\n",
    "plt.figure(figsize=(8,6))\n",
    "plt.plot(chi_solid, color='red', label='Solid')\n",
    "plt.plot(chi_liquid, color='blue', label='Liquid')\n",
    "plt.plot(chi_gas, color='green', label='Gas')\n",
    "\n",
    "plt.xlabel(\"Monte Carlo time (~ distance between different measurements)\")\n",
    "plt.ylabel(\"Autocorrelation\")\n",
    "plt.legend()\n",
    "plt.grid()\n",
    "plt.title(\"Autocorrelation vs time distance\", fontsize=18, fontweight=\"bold\")\n",
    "plt.show()"
   ]
  },
  {
   "cell_type": "markdown",
   "id": "1e5185a1-89a2-4d2a-81bd-c8bedbe2d32d",
   "metadata": {},
   "source": [
    "As one should expect, the autocorrelation decays with an exponential law. Therefore, in order to reduce the correlation among different blocks and analyze statistically independent samples, one should dimension the blocks so that L (dimension of a block) is greater than the correlation length.  "
   ]
  },
  {
   "cell_type": "markdown",
   "id": "6fdbb91d-ad90-406a-84a0-fabd611f6014",
   "metadata": {},
   "source": [
    "**Analysis of the statistical uncertainties as a function of the block size**"
   ]
  },
  {
   "cell_type": "code",
   "execution_count": null,
   "id": "d9290681-106a-42ac-8c2f-6196e56d216b",
   "metadata": {},
   "outputs": [],
   "source": [
    "def error(av, av2, n):  \n",
    "    if n==0: return 0\n",
    "    else: return np.sqrt((av2 - av**2)/n) \n",
    "    \n",
    "def data_blocking(data, L):\n",
    "    M = len(data) # Total number of throws\n",
    "    N = M // L      # Number of blocks \n",
    "    ave = 0\n",
    "    av2 = 0\n",
    "    \n",
    "    for i in range(N):\n",
    "        summ = 0\n",
    "        for j in range(L):\n",
    "            k = j+i*L\n",
    "            summ += data[k]\n",
    "        ave += summ/L\n",
    "        av2 += (summ/L)**2\n",
    "    ave /= N\n",
    "    av2 /= N\n",
    "    \n",
    "    return error(ave,av2,N)"
   ]
  },
  {
   "cell_type": "code",
   "execution_count": null,
   "id": "39bd8377-d62d-4a2c-89f2-f0f181c0a1be",
   "metadata": {},
   "outputs": [],
   "source": [
    "Lmin = 10    # Min number of throws in each block\n",
    "Lmax = 5000  # Max number of throws in each block\n",
    "M = 500000   # Total number of throws\n",
    "L = np.array([x for x in range(Lmin,Lmax+1) if (M%x == 0)]) #divisors of M\n",
    "\n",
    "error_solid, error_liquid, error_gas = [], [], []\n",
    "for i in L:\n",
    "    error_solid.append(data_blocking(instant_p_energy_solid, i))\n",
    "    error_liquid.append(data_blocking(instant_p_energy_liquid, i))\n",
    "    error_gas.append(data_blocking(instant_p_energy_gas, i))"
   ]
  },
  {
   "cell_type": "code",
   "execution_count": null,
   "id": "309bcbf4-36a4-4f57-bfc5-695410b5c2ef",
   "metadata": {},
   "outputs": [],
   "source": [
    "plt.figure(figsize=(14,6))\n",
    "plt.plot(L, error_solid, '*-', label='Solid Phase')\n",
    "plt.plot(L, error_liquid, '*-', label='Liquid Phase')\n",
    "plt.plot(L, error_gas, '*-', label='Gas Phase')\n",
    "plt.xlabel('# throws in each block')\n",
    "plt.ylabel('statistical uncertainty')\n",
    "plt.legend()\n",
    "plt.title(\"Statistical uncertainty vs block size\")\n",
    "plt.grid()\n",
    "plt.show()"
   ]
  },
  {
   "cell_type": "markdown",
   "id": "3d0d6029-ef68-4c66-a24a-3245c864646c",
   "metadata": {},
   "source": [
    "The plot show, for all the three phases, an underestimation of the uncertainty if the blocks are not big enough. This is due to the correlation that emerges among different samples. After an initial increasing phase, the uncertainty stabilizes and oscillates around higher values.  \n",
    "Therefore, for the future simulations the following values were chosen for the number of blocks N and the block size L : \n",
    "\n",
    "- Solid phase --- > $N = 250$, $L = 2000$; \n",
    "- Liquid phase ---> $N = 250$, $L = 2000 $; \n",
    "- Gaseous phase ---> $N = 200$, $L = 3000$; "
   ]
  },
  {
   "cell_type": "markdown",
   "id": "8521d0fb-514b-4796-8832-05677c5b3da2",
   "metadata": {},
   "source": [
    "### Exercise 07.3\n",
    "In this exercise it was asked to include code in order to compute the radial distribution function as a function of the distance between particles r, with $r \\in [0, L/2]$ and $L$ the dimension of one side of the box the particles are into. The radial distribution function $g(r)$ is defined as $$ g(r) = \\frac{1}{\\rho N \\Delta V(r)} \\Big\\langle \\sum \\sum_{i \\not = j = 1}^N \\delta \\big[|\\vec{r}| - |\\vec{r_i}-\\vec{r_j}|\\big] \\Big\\rangle$$ in which $\\Delta V(r)$ is defined as $\\Delta V(r) = \\frac{4\\pi}{3}\\big[(r+dr)^3 -r^3\\big].$  \n",
    "This function $g(r)$ returns the probability that two atoms are found at a distance r. The algorithm for the calculation was implemented filling in a 100 bins histogram in which the counting of the corresponding bin was increased by +2 each time two particles were found at a distance in $[r, r+dr]$. In the end the histogram was normalized. \n",
    "\n",
    "<span style=\"color:red\">Include the calculation of the radial distribution function, $g(r)$, as a function of the radial distance $r$ among particles, with $r \\in \\left[ 0; L/2\\right]$ inside the NSL simulator code</span>: average value of $g(r)$ in each block, final average value of $g(r)$ with statistical uncertainties in a separate file."
   ]
  },
  {
   "cell_type": "code",
   "execution_count": null,
   "id": "ae518d04-4d68-41a9-9b43-baa53640a3ae",
   "metadata": {},
   "outputs": [],
   "source": [
    "solid_gofr_NVT = np.loadtxt(\"/home/francesco/NumericalSimulationLaboratory/LSN_lecture_07/exercise_7_04/NSL_SIMULATOR/OUTPUT/OUTPUT_SOLID/gofr_ave_NVT.dat\")\n",
    "liquid_gofr_NVT = np.loadtxt(\"/home/francesco/NumericalSimulationLaboratory/LSN_lecture_07/exercise_7_04/NSL_SIMULATOR/OUTPUT/OUTPUT_LIQUID/gofr_ave_NVT.dat\")\n",
    "gas_gofr_NVT = np.loadtxt(\"/home/francesco/NumericalSimulationLaboratory/LSN_lecture_07/exercise_7_04/NSL_SIMULATOR/OUTPUT/OUTPUT_GAS/gofr_ave_NVT.dat\")"
   ]
  },
  {
   "cell_type": "code",
   "execution_count": null,
   "id": "b9c7fc1f-318c-4ae8-95bc-e68fb1509804",
   "metadata": {},
   "outputs": [],
   "source": [
    "plt.figure(figsize=(12,6))\n",
    "plt.xlim(0., 2.5)\n",
    "plt.plot(gas_gofr_NVT[:,0],gas_gofr_NVT[:,1], label=\"Gas\", linestyle='--')\n",
    "plt.plot(liquid_gofr_NVT[:,0],liquid_gofr_NVT[:,1], label=\"Liquid\", linestyle='--')\n",
    "plt.plot(solid_gofr_NVT[:,0],solid_gofr_NVT[:,1], label=\"Solid\", linestyle='--')\n",
    "plt.title(\"GOFR in the NVT configuration\")\n",
    "plt.ylabel(\"g(r)\")\n",
    "plt.xlabel(\"r\")\n",
    "plt.legend()\n",
    "plt.grid(True)\n",
    "plt.show()"
   ]
  },
  {
   "cell_type": "markdown",
   "id": "142e7128-9a85-46ee-bf69-644f409a6190",
   "metadata": {},
   "source": [
    "Under a certain distance r, the probability of finding two particles at that distance is null. This r-value corresponds to the minimum of the Lennard-Jones potential, in fact at this $r_{min}$ the energetic configuration of the system particle-particle is stable and therefore it has a high probability of realization. Under this $r_{min}$ the repulsive part of the interaction dominates and therefore the probability of finding two particles at a distance $r < r_{min}$ decays.  \n",
    "With that being said, the first peak in each phase is around $r \\sim r_{min}$ for the aforementioned reason. The plot however shows different peaks depending on the phase considered. For the solid phase, since it is characterized by a well-defined lattice structure, the particles occupy specified sites in this lattice and therefore the different peaks reflect this precise structure. For what concerns the liquid phase, also here the system has a certain \"order\" but the particles have more freedom of motion with respect to the solid phase and therefore the peaks are weaker and damped. In the last scenario, the particles are free to move as the interactios among them are almost negligible and thus in the gaseous phase, after a first strongly damped peak, the radial distribution function $g(r)$ is flat reflecting the fact that there is an almost uniform probability of finding two particles at a generic distance r. "
   ]
  },
  {
   "cell_type": "markdown",
   "id": "fedff1dc-7f6f-4162-9c85-73d8b3d23ac8",
   "metadata": {},
   "source": [
    "### Exercise 07.4\n",
    "In this exercise it was asked to perform Monte Carlo simulations with the upgraded code and compare the results for $g(r)$ obtained in the microcanonical ensemble (NVE, Molecular Dynamics code) and in the canonical ensemble (NVT, Monte Carlo simulations). Also, it was asked to plot the results for some physical quantities in the canonical ensemble. \n",
    "\n",
    "By means of your upgraded NSL simulator code, equilibrate and <span style=\"color:red\">perform MC NVT simulations via a Lennard-Jones model</span> of Argon ($\\sigma = 0.34$ nm, $\\epsilon/k_B = 120$ K, $m=39.948$ amu) in the following conditions:\n",
    "1. solid phase: $\\rho^\\star = 1.1$, $T^\\star = 0.8$ (cut-off radius: $r_c = 2.2$)\n",
    "2. liquid phase: $\\rho^\\star = 0.8$, $T^\\star = 1.1$ (cut-off radius: $r_c = 2.5$)\n",
    "3. gas phase: $\\rho^\\star = 0.05$, $T^\\star = 1.2$ (cut-off radius: $r_c = 5.0$)\n",
    "\n",
    "show in pictures the obtained average values and uncertainties for the potential energy per particle, $U/N$, the pressure $P$ and the radial distribution function $g(r)$ in LJ units ... <span style=\"color:red\"> and compare your MC results for the radial distribution function, $g(r)$, with those obtained with Molecular Dynamics NVE simulations in similar thermodynamic conditions.</span>"
   ]
  },
  {
   "cell_type": "code",
   "execution_count": null,
   "id": "c0d69149-ef0d-4335-b496-2e1acc92b727",
   "metadata": {},
   "outputs": [],
   "source": [
    "solid_gofr_NVE = np.loadtxt(\"/home/francesco/NumericalSimulationLaboratory/LSN_lecture_07/exercise_7_04/NSL_SIMULATOR/OUTPUT/OUTPUT_SOLID/gofr_ave_NVE.dat\")\n",
    "liquid_gofr_NVE = np.loadtxt(\"/home/francesco/NumericalSimulationLaboratory/LSN_lecture_07/exercise_7_04/NSL_SIMULATOR/OUTPUT/OUTPUT_LIQUID/gofr_ave_NVE.dat\")\n",
    "gas_gofr_NVE = np.loadtxt(\"/home/francesco/NumericalSimulationLaboratory/LSN_lecture_07/exercise_7_04/NSL_SIMULATOR/OUTPUT/OUTPUT_GAS/gofr_ave_NVE.dat\")"
   ]
  },
  {
   "cell_type": "code",
   "execution_count": null,
   "id": "a65eb00c-125d-4c15-a6b2-e76bc0bc239d",
   "metadata": {},
   "outputs": [],
   "source": [
    "solid_pressure = np.loadtxt(\"/home/francesco/NumericalSimulationLaboratory/LSN_lecture_07/exercise_7_04/NSL_SIMULATOR/OUTPUT/OUTPUT_SOLID/pressure_NVT.dat\")\n",
    "liquid_pressure = np.loadtxt(\"/home/francesco/NumericalSimulationLaboratory/LSN_lecture_07/exercise_7_04/NSL_SIMULATOR/OUTPUT/OUTPUT_LIQUID/pressure_NVT.dat\")\n",
    "gas_pressure = np.loadtxt(\"/home/francesco/NumericalSimulationLaboratory/LSN_lecture_07/exercise_7_04/NSL_SIMULATOR/OUTPUT/OUTPUT_GAS/pressure_NVT.dat\")"
   ]
  },
  {
   "cell_type": "code",
   "execution_count": null,
   "id": "ad971994-49c6-4ed0-8c95-7d383d747620",
   "metadata": {},
   "outputs": [],
   "source": [
    "solid_penergy = np.loadtxt(\"/home/francesco/NumericalSimulationLaboratory/LSN_lecture_07/exercise_7_04/NSL_SIMULATOR/OUTPUT/OUTPUT_SOLID/potential_energy_NVT.dat\")\n",
    "liquid_penergy = np.loadtxt(\"/home/francesco/NumericalSimulationLaboratory/LSN_lecture_07/exercise_7_04/NSL_SIMULATOR/OUTPUT/OUTPUT_LIQUID/potential_energy_NVT.dat\")\n",
    "gas_penergy = np.loadtxt(\"/home/francesco/NumericalSimulationLaboratory/LSN_lecture_07/exercise_7_04/NSL_SIMULATOR/OUTPUT/OUTPUT_GAS/potential_energy_NVT.dat\")"
   ]
  },
  {
   "cell_type": "markdown",
   "id": "7925cbd5-0532-48cb-9e1c-9e74799f764b",
   "metadata": {},
   "source": [
    "**PRESSURE**"
   ]
  },
  {
   "cell_type": "code",
   "execution_count": null,
   "id": "6de07fd9-752f-40c4-bb78-bf5b0c1de9df",
   "metadata": {},
   "outputs": [],
   "source": [
    "M = 500000 #Number of throws\n",
    "N = 250 #Number of blocks\n",
    "L = (int)(M/N) #Number of throws per block\n",
    "x = np.arange(N) \n",
    "x *= L "
   ]
  },
  {
   "cell_type": "code",
   "execution_count": null,
   "id": "5934041c-26f2-42c3-b19b-78c34c3ce833",
   "metadata": {},
   "outputs": [],
   "source": [
    "M_gas = 600000 #Number of throws\n",
    "N_gas = 200 #Number of blocks\n",
    "L_gas = (int)(M_gas/N_gas) #Number of throws per block\n",
    "x_gas = np.arange(N_gas) \n",
    "x_gas *= L_gas "
   ]
  },
  {
   "cell_type": "code",
   "execution_count": null,
   "id": "249aceb5-8766-47cf-ad17-2786c8c16772",
   "metadata": {},
   "outputs": [],
   "source": [
    "y = solid_pressure[:,2]\n",
    "plt.figure(figsize=(12,6))\n",
    "plt.errorbar(solid_pressure[:,0],y,yerr=solid_pressure[:,3], color=\"green\")\n",
    "plt.title(\"Solid-Pressure\")\n",
    "plt.xlabel(\"#blocks\")\n",
    "plt.ylabel(\"P\")\n",
    "plt.grid(True)\n",
    "plt.show()"
   ]
  },
  {
   "cell_type": "code",
   "execution_count": null,
   "id": "f28838b8-e22c-4494-ba80-53ccb740fe4e",
   "metadata": {},
   "outputs": [],
   "source": [
    "y = liquid_pressure[:,2]\n",
    "plt.figure(figsize=(12,6))\n",
    "plt.errorbar(liquid_pressure[:,0],y,yerr=liquid_pressure[:,3], color=\"red\")\n",
    "plt.title(\"Liquid-Pressure\")\n",
    "plt.xlabel(\"#blocks\")\n",
    "plt.ylabel(\"P\")\n",
    "plt.grid(True)\n",
    "plt.show()"
   ]
  },
  {
   "cell_type": "code",
   "execution_count": null,
   "id": "22ca178c-9cea-4174-b0e8-b3e5872cad38",
   "metadata": {},
   "outputs": [],
   "source": [
    "y = gas_pressure[:,2]\n",
    "plt.figure(figsize=(12,6))\n",
    "plt.errorbar(gas_pressure[:,0],y,yerr=gas_pressure[:,3], color=\"blue\")\n",
    "plt.title(\"Gas-Pressure\")\n",
    "plt.xlabel(\"#blocks\")\n",
    "plt.ylabel(\"P\")\n",
    "plt.grid(True)\n",
    "plt.show()"
   ]
  },
  {
   "cell_type": "markdown",
   "id": "9710ba24-79ec-4127-9494-8fa79c4e1da2",
   "metadata": {},
   "source": [
    "**POTENTIAL ENERGY**"
   ]
  },
  {
   "cell_type": "code",
   "execution_count": null,
   "id": "3c647a72-3342-4659-93a3-b65aa8b6fbcc",
   "metadata": {},
   "outputs": [],
   "source": [
    "y = solid_penergy[:,2]\n",
    "plt.figure(figsize=(12,6))\n",
    "plt.errorbar(solid_penergy[:,0],y,yerr=solid_penergy[:,3], color=\"green\")\n",
    "plt.title(\"Solid-Potential energy\")\n",
    "plt.xlabel(\"#blocks\")\n",
    "plt.ylabel(\"U/N\")\n",
    "plt.grid(True)\n",
    "plt.show()"
   ]
  },
  {
   "cell_type": "code",
   "execution_count": null,
   "id": "a8a50894-7902-4cfd-8941-6ed500c50af9",
   "metadata": {},
   "outputs": [],
   "source": [
    "y = liquid_penergy[:,2]\n",
    "plt.figure(figsize=(12,6))\n",
    "plt.errorbar(liquid_penergy[:,0],y,yerr=liquid_penergy[:,3], color=\"red\")\n",
    "plt.title(\"Liquid-Potential energy\")\n",
    "plt.xlabel(\"#blocks\")\n",
    "plt.ylabel(\"U/N\")\n",
    "plt.grid(True)\n",
    "plt.show()"
   ]
  },
  {
   "cell_type": "code",
   "execution_count": null,
   "id": "67f2e246-b6da-4833-979b-5d3cf830f3af",
   "metadata": {},
   "outputs": [],
   "source": [
    "y = gas_penergy[:,2]\n",
    "plt.figure(figsize=(12,6))\n",
    "plt.errorbar(gas_penergy[:,0],y,yerr=gas_penergy[:,3], color=\"blue\")\n",
    "plt.title(\"Gas-Potential energy\")\n",
    "plt.xlabel(\"#blocks\")\n",
    "plt.ylabel(\"U/N\")\n",
    "plt.grid(True)\n",
    "plt.show()"
   ]
  },
  {
   "cell_type": "markdown",
   "id": "2dfb889e-626c-41d6-b274-2397c7a6681d",
   "metadata": {},
   "source": [
    "**GOFR: NVE vs NVT**"
   ]
  },
  {
   "cell_type": "code",
   "execution_count": null,
   "id": "6d20d6ad-af7d-43ab-849d-572c2edf0dd0",
   "metadata": {},
   "outputs": [],
   "source": [
    "# Dati per la fase solida\n",
    "x_solid_NVT = solid_gofr_NVT[:, 0]\n",
    "y_solid_NVT = solid_gofr_NVT[:, 1]\n",
    "x_solid_NVE = solid_gofr_NVE[:, 0]\n",
    "y_solid_NVE = solid_gofr_NVE[:, 1]\n",
    "\n",
    "# Dati per la fase liquida\n",
    "x_liquid_NVT = liquid_gofr_NVT[:, 0]\n",
    "y_liquid_NVT = liquid_gofr_NVT[:, 1]\n",
    "x_liquid_NVE = liquid_gofr_NVE[:, 0]\n",
    "y_liquid_NVE = liquid_gofr_NVE[:, 1]\n",
    "\n",
    "# Dati per la fase gassosa\n",
    "x_gas_NVT = gas_gofr_NVT[:, 0]\n",
    "y_gas_NVT = gas_gofr_NVT[:, 1]\n",
    "x_gas_NVE = gas_gofr_NVE[:, 0]\n",
    "y_gas_NVE = gas_gofr_NVE[:, 1]\n",
    "\n",
    "# --- Primo grafico: Fase Solida ---\n",
    "plt.figure(figsize=(12, 6))\n",
    "plt.errorbar(x_solid_NVT, y_solid_NVT, yerr=solid_gofr_NVT[:, 2], label=\"Solido - NVT\", linestyle='--')\n",
    "plt.errorbar(x_solid_NVE, y_solid_NVE, yerr=solid_gofr_NVE[:, 2], label=\"Solido - NVE\", linestyle='--')\n",
    "plt.title(\"GOFR - Fase Solida\")\n",
    "plt.xlabel(\"r\")\n",
    "plt.ylabel(\"g(r)\")\n",
    "plt.legend()\n",
    "plt.grid(True)\n",
    "plt.show()\n",
    "\n",
    "# --- Secondo grafico: Fase Liquida ---\n",
    "plt.figure(figsize=(12, 6))\n",
    "plt.errorbar(x_liquid_NVT, y_liquid_NVT, yerr=liquid_gofr_NVT[:, 2], label=\"Liquido - NVT\", linestyle='--')\n",
    "plt.errorbar(x_liquid_NVE, y_liquid_NVE, yerr=liquid_gofr_NVE[:, 2], label=\"Liquido - NVE\", linestyle='--')\n",
    "plt.title(\"GOFR - Fase Liquida\")\n",
    "plt.xlabel(\"r\")\n",
    "plt.ylabel(\"g(r)\")\n",
    "plt.legend()\n",
    "plt.grid(True)\n",
    "plt.show()\n",
    "\n",
    "# --- Terzo grafico: Fase Gassosa ---\n",
    "plt.figure(figsize=(12, 6))\n",
    "plt.errorbar(x_gas_NVT, y_gas_NVT, yerr=gas_gofr_NVT[:, 2], label=\"Gas - NVT\", linestyle='--')\n",
    "plt.errorbar(x_gas_NVE, y_gas_NVE, yerr=gas_gofr_NVE[:, 2], label=\"Gas - NVE\", linestyle='--')\n",
    "plt.title(\"GOFR - Fase Gassosa\")\n",
    "plt.xlabel(\"r\")\n",
    "plt.ylabel(\"g(r)\")\n",
    "plt.legend()\n",
    "plt.grid(True)\n",
    "plt.show()"
   ]
  },
  {
   "cell_type": "markdown",
   "id": "a4540887-e601-45b5-acdb-e7886b16274e",
   "metadata": {},
   "source": [
    "There is a good agreement between the radial distribution function $g(r)$ computed in the NVT scenario (Monte Carlo) and in the NVE scenario (Molecular Dynamics). This is due to the equilibration of the temperature in the NVE scenario, since it leads the system to similar thermodynamic conditions of the NVT scenario and thus producing results comparable to the ones obtained in the canonical ensemble. "
   ]
  }
 ],
 "metadata": {
  "kernelspec": {
   "display_name": "Python 3 (ipykernel)",
   "language": "python",
   "name": "python3"
  },
  "language_info": {
   "codemirror_mode": {
    "name": "ipython",
    "version": 3
   },
   "file_extension": ".py",
   "mimetype": "text/x-python",
   "name": "python",
   "nbconvert_exporter": "python",
   "pygments_lexer": "ipython3",
   "version": "3.10.12"
  }
 },
 "nbformat": 4,
 "nbformat_minor": 5
}
