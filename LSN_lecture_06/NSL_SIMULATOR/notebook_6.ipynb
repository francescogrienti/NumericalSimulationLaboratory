{
 "cells": [
  {
   "cell_type": "markdown",
   "id": "28e743b5-c1c6-4c70-9df5-8179ea5c7c5a",
   "metadata": {},
   "source": [
    "**NOTEBOOK 6**"
   ]
  },
  {
   "cell_type": "markdown",
   "id": "e1972cbc-7530-4886-b135-2b9b96f3b215",
   "metadata": {},
   "source": [
    "In Statistical Mechanics the one-dimensional (1D) Ising Model is exactly resoluble. The Hamiltonian for a system of N spins with nearest neighbors interaction is given by (in the following I will assume units such that $\\mu_B=1$ and $k_B=1$):\n",
    "\n",
    "$$\n",
    "H = \n",
    "-J\\sum_{i=1}^N s_i s_{i+1}\n",
    "-\\frac{h}{2}\\sum_{i=1}^N (s_i + s_{i+1}) \n",
    "$$\n",
    "\n",
    "where $\\{ s_i \\}_{i=1,N}$ are spin variables taking values in $\\{-1;1\\}$, $J>0$ (ferromagnetic model),and with the assumption $s_{N+1} = s_{1}$.\n",
    "\n",
    "The partition function for $N$ spins, $Z$, can be exactly computed and it turns out to be:\n",
    "\n",
    "$$\n",
    "Z=\\sum_{\\{ s_i \\}} \\exp \\left( -\\beta H\\right) = \\lambda_1^N + \\lambda_2^N\n",
    "$$\n",
    "\n",
    "where\n",
    "$\\lambda_{1,2} = \n",
    "e^{\\beta J} \n",
    "\\cosh (\\beta h) \\pm \\left[ e^{2\\beta J} \\cosh^2 (\\beta h) - 2\\sinh (2\\beta J) \\right]^{1/2}$, \n",
    "and where $\\beta=\\frac{1}{k_b T} = \\frac{1}{T}$.\n",
    "Once the partition function has been computed, the Helmholtz free energy is readly obtained as $A = -k_B T \\ln Z$. All the thermodynamic quantities of interest can be deduced from $A$ or, equivalently, from $Z$:\n",
    "\n",
    "- the **Internal Energy** per spin (with $h=0$):\n",
    "\n",
    "$$\n",
    "\\frac{U(N,T)}{N} = \\frac{\\langle H \\rangle}{N}\n",
    "= \\frac{1}{N} \\sum_{\\{ s_i \\}} H \\frac{\\exp \\left( -\\beta H\\right)}{Z}\n",
    "= -\\frac{1}{N}\\frac{\\partial \\ln Z}{\\partial \\beta}\n",
    "\\underset{h=0}= -J \\tanh (\\beta J) \\Biggl( \\frac{1 + \\tanh^{N-2} (\\beta J)}{1+\\tanh^N (\\beta J)} \\Biggl)\n",
    "$$\n",
    "\n",
    "- the **Heat Capacity** (with $h=0$):\n",
    "\n",
    "$$\n",
    "C(N,T) = \\frac{\\partial U(N,T)}{\\partial T}\n",
    "= \\frac{\\partial \\beta}{\\partial T}\\frac{\\partial U}{\\partial \\beta}\n",
    "= -k_B\\beta^2 \\frac{\\partial}{\\partial \\beta} \\left[ \\sum_{\\{ s_i \\}} H \\frac{\\exp \\left( -\\beta H\\right)}{Z} \\right] = \\\\\n",
    "= -k_B\\beta^2 \\left[ -\\sum_{\\{ s_i \\}} H^2 \\frac{\\exp \\left( -\\beta H\\right)}{Z} + \\sum_{\\{ s_i \\}} H \\exp \\left( -\\beta H\\right)\\frac{\\partial Z^{-1}}{\\partial \\beta} \\right] = \\\\\n",
    "= k_B\\beta^2 \\left\\{ \\sum_{\\{ s_i \\}} H^2 \\frac{\\exp \\left( -\\beta H\\right)}{Z} + \\left[ \\sum_{\\{ s_i \\}} H \\frac{\\exp \\left( -\\beta H\\right)}{Z}\\right]\\frac{1}{Z}\\frac{\\partial Z}{\\partial \\beta} \\right\\} =\\\\\n",
    "= k_B\\beta^2 \\left\\{ \\sum_{\\{ s_i \\}} H^2 \\frac{\\exp \\left( -\\beta H\\right)}{Z} - \\left[ \\sum_{\\{ s_i \\}} H \\frac{\\exp \\left( -\\beta H\\right)}{Z}\\right]^2 \\right\\} =\n",
    "k_B\\beta^2 \\left(\\langle H^2 \\rangle -\\langle H \\rangle^2 \\right)\n",
    "$$\n",
    "\n",
    "$$\n",
    "\\frac{C(N,T)}{N} = \\frac{1}{N}\\frac{\\partial U(N,T)}{\\partial T} =\\\\\n",
    "\\underset{h=0}= \n",
    "k_B (\\beta J)^2 \\left\\{ 1+\\tanh^N (\\beta J)+(N-1)\\tanh^2 (\\beta J)+(N-1)\\frac{\\tanh^{N-2} (\\beta J)}{1+\\tanh^N (\\beta J)}\n",
    "- N \\left[ \\frac{\\tanh (\\beta J) + \\tanh^{N-1} (\\beta J)}{1+\\tanh^N (\\beta J)} \\right]^2 \\right\\}\n",
    "$$\n",
    "\n",
    "- The **magnetization** (with $h \\not= 0$):\n",
    "\n",
    "Note that with $h=0$ the magnetization $M(N,T,h=0)=\\langle \\sum_{i=1,N}s_i \\rangle =0$ because in 1D we cannot have a (ferromagnetic) phase transition in absence of an external magnetic field.\n",
    "\n",
    "$$\n",
    "M(N,T,h) = -\\frac{\\partial A}{\\partial h} = k_B T \\frac{\\partial \\ln Z}{\\partial h} =\n",
    "\\frac{1}{\\beta} \\frac{1}{Z}\\frac{\\partial}{\\partial h}\\sum_{\\{ s_i \\}} \\exp \\left( -\\beta H\\right) = \\sum_{\\{ s_i \\}} \\left[ \\sum_{i=1,N}s_i\\right] \\frac{\\exp \\left( -\\beta H\\right)}{Z} = \\left\\langle \\sum_{i=1,N}s_i \\right\\rangle\n",
    "$$\n",
    "\n",
    "The exact formula from $M(N,T,h) = k_B T \\dfrac{\\partial \\ln Z}{\\partial h}$ is:\n",
    "$$\n",
    "\\frac{M(N,T,h)}{N}=\\frac{e^{\\beta J}\\; \\sinh(\\beta h)}{Z} \\; \\Bigl[\\lambda_1^{N-1}\\cdot \\Bigl(1+\\frac{e^{\\beta J}\\; \\cosh(\\beta h)}{\\sqrt{e^{2\\beta J} \\cosh^2 (\\beta h) - 2\\sinh (2\\beta J)}}\\Bigr) + \\lambda_2^{N-1}\\cdot \\Bigl(1-\\frac{e^{\\beta J}\\; \\cosh(\\beta h)}{\\sqrt{e^{2\\beta J} \\cosh^2 (\\beta h) - 2\\sinh (2\\beta J)}}\\Bigr)\\Bigr]\n",
    "$$\n",
    "\n",
    "- The **magnetic susceptibility** (with $h=0$):\n",
    "\n",
    "$$\n",
    "\\chi(N,T) = \\frac{\\partial M}{\\partial h} = \n",
    "\\frac{\\partial}{\\partial h}\\sum_{\\{ s_i \\}} \\left[ \\sum_{i=1,N}s_i\\right] \\frac{\\exp \\left( -\\beta H\\right)}{Z} =\\\\\n",
    "= \\beta\\sum_{\\{ s_i \\}} \\left[ \\sum_{i=1,N}s_i\\right]^2 \\frac{\\exp \\left( -\\beta H\\right)}{Z}\n",
    "-\\sum_{\\{ s_i \\}} \\left[ \\sum_{i=1,N}s_i\\right] \\frac{\\exp \\left( -\\beta H\\right)}{Z}\n",
    "\\frac{1}{Z}\\frac{\\partial Z}{\\partial h} = \n",
    "\\beta \\left[ \\left\\langle \\left( \\sum_{i=1,N}s_i \\right)^2 \\right\\rangle - \\left\\langle \\sum_{i=1,N}s_i \\right\\rangle^2 \\right] = \\\\\n",
    "\\underset{h=0}= \\beta \\left[ \\left\\langle \\left( \\sum_{i=1,N}s_i \\right)^2 \\right\\rangle \\right] = \\beta e^{2\\beta J} \\Biggl( \\frac{1-\\tanh^N (\\beta J)}{1+\\tanh^N (\\beta J)} \\Biggl)\n",
    "$$"
   ]
  },
  {
   "cell_type": "markdown",
   "id": "89a7e3f1-d2b1-4dae-944a-c61d2dfc8c24",
   "metadata": {},
   "source": [
    "### Exercise 06.1\n",
    "\n",
    "Complete the NSL_simulator code to simulate a 1D Ising model with the Gibbs sampling algorithm (the Metropolis algorithm is already implemented) to sample the Boltzmann's weight $p(\\{ s_i \\}) = \\exp(-\\beta H)/Z$. Verify the possibility to restart from a previous spin configuration.\n",
    "\n",
    "The code already computes the internal energy: $U(N,T) = \\langle H \\rangle$. Add the calculation of $C(N,T)$, $\\chi(N,T)$, $M(N,T,h)$ and compute:\n",
    "1. $U(N,T) = \\langle H \\rangle_{h=0}$\n",
    "2. $C(N,T) = k_B \\beta^2 (\\langle H^2 \\rangle_{h=0}-\\langle H \\rangle_{h=0}^2)$ \n",
    "3. $\\chi(N,T) = \\beta \\langle (\\sum_{i=1,N}s_i)^2 \\rangle_{h=0}$\n",
    "4. $M(N,T,h=0.02)= \\langle \\sum_{i=1,N}s_i \\rangle_{h=0.02}$\n",
    "\n",
    "as a function of $T$ in the range $\\left[0.5;2.0\\right]$ for a system of $N=50$ spins with $J=1$.\n",
    "\n",
    "As usual, use data blocking and give an estimate of the statistical uncertainties."
   ]
  },
  {
   "cell_type": "markdown",
   "id": "b41ddc4b-2ec9-4e60-befc-c8d9a125bc7c",
   "metadata": {},
   "source": [
    "- <span style=\"color:red\">Show pictures of your estimations of $U(N,T)$, $C(N,T)$, $\\chi(N,T)$, $M(N,T,h=0.02)$ and their uncertainties</span> obtained with a large number of *MC steps* (e.g. $M\\ge 10^5$) compared with the exact curves. In the same picture show your results obtained with <span style=\"color:blue\">both sampling methods, Metropolis and Gibbs</span>.\n",
    "\n",
    "A Monte Carlo step will consist in trying to flip one time all the spins of the system. Do not forget to equilibrate your simulations and to use blocking average with blocks large enough."
   ]
  },
  {
   "cell_type": "markdown",
   "id": "1e433ff9-e0da-4630-80fc-e993fd3d765d",
   "metadata": {},
   "source": [
    "**SYSTEM EQUILIBRATION**"
   ]
  },
  {
   "cell_type": "code",
   "execution_count": null,
   "id": "c6b53cd5-422d-49f5-b15d-8577c3d4c19b",
   "metadata": {},
   "outputs": [],
   "source": [
    "import matplotlib\n",
    "import matplotlib.pyplot as plt\n",
    "import numpy as np\n",
    "import math\n",
    "import scipy\n",
    "\n",
    "eq_gibbs = np.loadtxt(\"/home/francesco/NumericalSimulationLaboratory/LSN_lecture_06/NSL_SIMULATOR/OUTPUT/EQUILIBRATION_GIBBS/total_energy.dat\", unpack=True, usecols=(0))\n",
    "eq_metr = np.loadtxt(\"/home/francesco/NumericalSimulationLaboratory/LSN_lecture_06/NSL_SIMULATOR/OUTPUT/EQUILIBRATION_METROPOLIS/total_energy.dat\", unpack=True, usecols=(0))"
   ]
  },
  {
   "cell_type": "markdown",
   "id": "84b8e1be-8ac5-4f89-b6a6-4a8843e03e7e",
   "metadata": {},
   "source": [
    "**SPECIFIC HEAT**"
   ]
  },
  {
   "cell_type": "code",
   "execution_count": 1,
   "id": "e82ab491-0b95-4c87-80c7-cae552ec51ca",
   "metadata": {},
   "outputs": [],
   "source": [
    "cv_Metr_x, cv_Metr_y, cv_Metr_var  = np.loadtxt(\"/home/francesco/NumericalSimulationLaboratory/LSN_lecture_06/NSL_SIMULATOR/OUTPUT/OUTPUT_METROPOLIS/specific_heat_temp.dat\", unpack=True, usecols=(0,1,2))\n",
    "cv_Gib_x, cv_Gib_y, cv_Gib_var  = np.loadtxt(\"/home/francesco/NumericalSimulationLaboratory/LSN_lecture_06/NSL_SIMULATOR/OUTPUT/OUTPUT_GIBBS/specific_heat_temp.dat\", unpack=True, usecols=(0,1,2))\n",
    "\n",
    "#definire le variabili per il plot\n",
    "\n",
    "#theory\n",
    "heat=((beta*J)**2)*(((1+thN+(Ns-1)*(th**2)+(Ns-1)*(ch**2)*thN)/(1+thN))-Ns*((th+ch*thN)/(1+thN))**2)\n",
    "\n",
    "#plots\n",
    "plt.errorbar(cv_Metr_x, cv_Metr_y, yerr=cv_Metr_var, label=\"Metropolis\", color=\"red\", fmt='8', markersize=14)\n",
    "plt.errorbar(cv_Gib_x, cv_Gib_y, yerr=cv_Gib_var, label=\"Gibbs\", color=\"purple\", fmt='s', markersize=7)\n",
    "plt.plot(cv_Metr_x, heat, label=\"Theory\") #theory\n",
    "plt.title('Ising 1D, Heat Capacity')\n",
    "plt.xlabel('T [r.u]')\n",
    "plt.ylabel('C [r.u]')\n",
    "plt.legend(loc=4, fontsize='x-small')\n",
    "plt.grid()\n",
    "plt.show()"
   ]
  },
  {
   "cell_type": "markdown",
   "id": "6b13b7bd-358a-44c4-ac35-be55955b4bea",
   "metadata": {},
   "source": [
    "**SUSCEPTIBILITY**"
   ]
  },
  {
   "cell_type": "code",
   "execution_count": 4,
   "id": "717f2df3-3d8b-493b-8158-a7651f39a6de",
   "metadata": {},
   "outputs": [],
   "source": [
    "chi_Metr_x, chi_Metr_y, chi_Metr_var = np.loadtxt(\"/home/francesco/NumericalSimulationLaboratory/LSN_lecture_06/NSL_SIMULATOR/OUTPUT/OUTPUT_METROPOLIS/susceptibility_temp.dat\")\n",
    "chi_Gib_x, chi_Gib_y, chi_Gib_var = np.loadtxt(\"/home/francesco/NumericalSimulationLaboratory/LSN_lecture_06/NSL_SIMULATOR/OUTPUT/OUTPUT_GIBBS/susceptibility_temp.dat\")\n",
    "\n",
    "#theory\n",
    "X = beta*np.exp(2*beta*J)*(1-thN)/(1+thN)\n",
    "\n",
    "#plots\n",
    "plt.errorbar(chi_Metr_x, chi_Metr_y, yerr=chi_Metr_var, label=\"Metropolis\", color=\"red\", fmt='8', markersize=14)\n",
    "plt.errorbar(chi_Gib_x, chi_Gib_y, yerr=chi_Gib_var, label=\"Gibbs\", color=\"purple\", fmt='s', markersize=7)\n",
    "plt.plot(T, X, label=\"Theory\") #theory #Definire la T\n",
    "plt.title('Ising 1D, Suceptibility')\n",
    "plt.xlabel('T [r.u]')\n",
    "plt.ylabel('$\\chi$ [r.u]')\n",
    "plt.legend(loc=1, fontsize='x-small')\n",
    "plt.grid()\n",
    "plt.show()\n"
   ]
  },
  {
   "cell_type": "markdown",
   "id": "42dfd1ac-37aa-4735-82c5-a01269d823df",
   "metadata": {},
   "source": [
    "**INTERNAL ENERGY**"
   ]
  },
  {
   "cell_type": "code",
   "execution_count": null,
   "id": "85c07685-92a3-4e54-9c0c-4cd80edd7bbc",
   "metadata": {},
   "outputs": [],
   "source": [
    "E_Metr_x, E_Metr_y, E_Metr_var = np.loadtxt(\"/home/francesco/NumericalSimulationLaboratory/LSN_lecture_06/NSL_SIMULATOR/OUTPUT/OUTPUT_METROPOLIS/energy_temp.dat\")\n",
    "E_Gib_x, E_Gib_y, E_Gib_var = np.loadtxt(\"/home/francesco/NumericalSimulationLaboratory/LSN_lecture_06/NSL_SIMULATOR/OUTPUT/OUTPUT_GIBBS/energy_temp.dat\")\n",
    "\n",
    "\n",
    "#plots \n",
    "\n",
    "plt.errorbar(E_Metr_x, E_Metr_y, yerr=E_Metr_var, label=\"Metropolis\", color=\"red\", fmt='8', markersize=14)\n",
    "plt.errorbar(E_Gib_x, E_Gib_y, yerr=E_Gib_var, label=\"Gibbs\", color=\"purple\", fmt='s', markersize=7)\n",
    "plt.plot(T, e, label=\"Theory\") #theory\n",
    "plt.title('Ising 1D, Internal Energy')\n",
    "plt.xlabel('T [r.u]')\n",
    "plt.ylabel('U/N [r.u]')\n",
    "plt.legend(loc=4, fontsize='x-small')\n",
    "plt.grid()\n",
    "plt.show()\n",
    "\n"
   ]
  },
  {
   "cell_type": "markdown",
   "id": "300481be-1348-4f5e-913d-7633b14dae01",
   "metadata": {},
   "source": [
    "**MAGNETIZATION (h=0.02)**"
   ]
  },
  {
   "cell_type": "code",
   "execution_count": null,
   "id": "d3d8aba5-971a-416e-b737-b0d858992224",
   "metadata": {},
   "outputs": [],
   "source": [
    "magn_Metr_x, magn_Metr_y, magn_Metr_var = np.loadtxt(\"/home/francesco/NumericalSimulationLaboratory/LSN_lecture_06/NSL_SIMULATOR/OUTPUT/OUTPUT_METROPOLIS/magnetization_temp.dat\")\n",
    "magn_Gib_x, magn_Gib_y, magn_Gib_var = np.loadtxt(\"/home/francesco/NumericalSimulationLaboratory/LSN_lecture_06/NSL_SIMULATOR/OUTPUT/OUTPUT_GIBBS/magnetization_temp.dat\")\n",
    "\n",
    "#theory\n",
    "h=0.02 #external field\n",
    "b = 1/T\n",
    "\n",
    "l1 = np.exp(b*J)*np.cosh(b*h)+np.sqrt(np.exp(2*b*J)*np.cosh(b*h)*np.cosh(b*h)-2*np.sinh(2*b*J))\n",
    "l2 = np.exp(b*J)*np.cosh(b*h)-np.sqrt(np.exp(2*b*J)*np.cosh(b*h)*np.cosh(b*h)-2*np.sinh(2*b*J))\n",
    "Z = l1**Ns + l2**Ns\n",
    "M = (np.exp(b*J)*np.sinh(b*h)*((l1**(Ns-1))*(1+np.exp(b*J)*np.cosh(b*h)/np.sqrt(np.exp(2*b*J)*np.cosh(b*h)*np.cosh(b*h)-2*np.sinh(2*b*J))) \n",
    "        + (l2**(Ns-1))*(1-np.exp(b*J)*np.cosh(b*h)/np.sqrt(np.exp(2*b*J)*np.cosh(b*h)*np.cosh(b*h)-2*np.sinh(2*b*J)))))/(Z)\n",
    "\n",
    "#plots\n",
    "plt.errorbar(magn_Metr_x, magn_Metr_y, yerr=magn_Metr_var, label=\"Metropolis\", color=\"red\", fmt='8', markersize=14)\n",
    "plt.errorbar(magn_Gib_x, magn_Gib_y, yerr=magn_Gib_var, label=\"Gibbs\", color=\"purple\", fmt='s', markersize=7)\n",
    "plt.plot(T, M, label=\"Theory\") #theory\n",
    "plt.title('Ising 1D, Magnetization M with h = 0.02')\n",
    "plt.xlabel('T [r.u]')\n",
    "plt.ylabel('M [r.u]')\n",
    "plt.legend(loc=4, fontsize='x-small')\n",
    "plt.grid()\n",
    "plt.show()"
   ]
  },
  {
   "cell_type": "markdown",
   "id": "cf236ba2-cbd3-4305-afbd-2b8080ba92c6",
   "metadata": {},
   "source": [
    "**ADESSO FAR RIGIRARE TUTTO IL CODICE UNA VOLTA SOLA E OTTENERE I RISULTATI, POI PLOTTARLI**"
   ]
  },
  {
   "cell_type": "code",
   "execution_count": 3,
   "id": "bea21e29-d12a-4ee3-83fd-57eff0b3fb7f",
   "metadata": {},
   "outputs": [],
   "source": []
  },
  {
   "cell_type": "code",
   "execution_count": null,
   "id": "c05444be-4263-4a0b-ad05-ff45d5bd2aed",
   "metadata": {},
   "outputs": [],
   "source": []
  }
 ],
 "metadata": {
  "kernelspec": {
   "display_name": "Python 3 (ipykernel)",
   "language": "python",
   "name": "python3"
  },
  "language_info": {
   "codemirror_mode": {
    "name": "ipython",
    "version": 3
   },
   "file_extension": ".py",
   "mimetype": "text/x-python",
   "name": "python",
   "nbconvert_exporter": "python",
   "pygments_lexer": "ipython3",
   "version": "3.10.12"
  }
 },
 "nbformat": 4,
 "nbformat_minor": 5
}
