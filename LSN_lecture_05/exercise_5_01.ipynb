{
 "cells": [
  {
   "cell_type": "code",
   "execution_count": 1,
   "id": "9b2a2ea1-7148-443c-adbd-e12d350df5e0",
   "metadata": {},
   "outputs": [],
   "source": [
    "import matplotlib\n",
    "import matplotlib.pyplot as plt\n",
    "import numpy as np\n",
    "import math\n",
    "import scipy"
   ]
  },
  {
   "cell_type": "code",
   "execution_count": 2,
   "id": "5b3ee815-6abc-45dd-a231-553116b2329b",
   "metadata": {},
   "outputs": [
    {
     "ename": "FileNotFoundError",
     "evalue": "results_radius_gauss_GS.dat not found.",
     "output_type": "error",
     "traceback": [
      "\u001b[0;31m---------------------------------------------------------------------------\u001b[0m",
      "\u001b[0;31mFileNotFoundError\u001b[0m                         Traceback (most recent call last)",
      "Cell \u001b[0;32mIn[2], line 1\u001b[0m\n\u001b[0;32m----> 1\u001b[0m data_rad_gauss_GS \u001b[38;5;241m=\u001b[39m \u001b[43mnp\u001b[49m\u001b[38;5;241;43m.\u001b[39;49m\u001b[43mloadtxt\u001b[49m\u001b[43m(\u001b[49m\u001b[38;5;124;43m\"\u001b[39;49m\u001b[38;5;124;43mresults_radius_gauss_GS.dat\u001b[39;49m\u001b[38;5;124;43m\"\u001b[39;49m\u001b[43m)\u001b[49m\n\u001b[1;32m      2\u001b[0m data_xyz_gauss_GS \u001b[38;5;241m=\u001b[39m np\u001b[38;5;241m.\u001b[39mloadtxt(\u001b[38;5;124m\"\u001b[39m\u001b[38;5;124mresults_xyz_gauss_GS.dat\u001b[39m\u001b[38;5;124m\"\u001b[39m)\n\u001b[1;32m      3\u001b[0m data_rad_gauss_ES \u001b[38;5;241m=\u001b[39m np\u001b[38;5;241m.\u001b[39mloadtxt(\u001b[38;5;124m\"\u001b[39m\u001b[38;5;124mresults_radius_gauss_ES.dat\u001b[39m\u001b[38;5;124m\"\u001b[39m)\n",
      "File \u001b[0;32m~/.local/lib/python3.10/site-packages/numpy/lib/npyio.py:1373\u001b[0m, in \u001b[0;36mloadtxt\u001b[0;34m(fname, dtype, comments, delimiter, converters, skiprows, usecols, unpack, ndmin, encoding, max_rows, quotechar, like)\u001b[0m\n\u001b[1;32m   1370\u001b[0m \u001b[38;5;28;01mif\u001b[39;00m \u001b[38;5;28misinstance\u001b[39m(delimiter, \u001b[38;5;28mbytes\u001b[39m):\n\u001b[1;32m   1371\u001b[0m     delimiter \u001b[38;5;241m=\u001b[39m delimiter\u001b[38;5;241m.\u001b[39mdecode(\u001b[38;5;124m'\u001b[39m\u001b[38;5;124mlatin1\u001b[39m\u001b[38;5;124m'\u001b[39m)\n\u001b[0;32m-> 1373\u001b[0m arr \u001b[38;5;241m=\u001b[39m \u001b[43m_read\u001b[49m\u001b[43m(\u001b[49m\u001b[43mfname\u001b[49m\u001b[43m,\u001b[49m\u001b[43m \u001b[49m\u001b[43mdtype\u001b[49m\u001b[38;5;241;43m=\u001b[39;49m\u001b[43mdtype\u001b[49m\u001b[43m,\u001b[49m\u001b[43m \u001b[49m\u001b[43mcomment\u001b[49m\u001b[38;5;241;43m=\u001b[39;49m\u001b[43mcomment\u001b[49m\u001b[43m,\u001b[49m\u001b[43m \u001b[49m\u001b[43mdelimiter\u001b[49m\u001b[38;5;241;43m=\u001b[39;49m\u001b[43mdelimiter\u001b[49m\u001b[43m,\u001b[49m\n\u001b[1;32m   1374\u001b[0m \u001b[43m            \u001b[49m\u001b[43mconverters\u001b[49m\u001b[38;5;241;43m=\u001b[39;49m\u001b[43mconverters\u001b[49m\u001b[43m,\u001b[49m\u001b[43m \u001b[49m\u001b[43mskiplines\u001b[49m\u001b[38;5;241;43m=\u001b[39;49m\u001b[43mskiprows\u001b[49m\u001b[43m,\u001b[49m\u001b[43m \u001b[49m\u001b[43musecols\u001b[49m\u001b[38;5;241;43m=\u001b[39;49m\u001b[43musecols\u001b[49m\u001b[43m,\u001b[49m\n\u001b[1;32m   1375\u001b[0m \u001b[43m            \u001b[49m\u001b[43munpack\u001b[49m\u001b[38;5;241;43m=\u001b[39;49m\u001b[43munpack\u001b[49m\u001b[43m,\u001b[49m\u001b[43m \u001b[49m\u001b[43mndmin\u001b[49m\u001b[38;5;241;43m=\u001b[39;49m\u001b[43mndmin\u001b[49m\u001b[43m,\u001b[49m\u001b[43m \u001b[49m\u001b[43mencoding\u001b[49m\u001b[38;5;241;43m=\u001b[39;49m\u001b[43mencoding\u001b[49m\u001b[43m,\u001b[49m\n\u001b[1;32m   1376\u001b[0m \u001b[43m            \u001b[49m\u001b[43mmax_rows\u001b[49m\u001b[38;5;241;43m=\u001b[39;49m\u001b[43mmax_rows\u001b[49m\u001b[43m,\u001b[49m\u001b[43m \u001b[49m\u001b[43mquote\u001b[49m\u001b[38;5;241;43m=\u001b[39;49m\u001b[43mquotechar\u001b[49m\u001b[43m)\u001b[49m\n\u001b[1;32m   1378\u001b[0m \u001b[38;5;28;01mreturn\u001b[39;00m arr\n",
      "File \u001b[0;32m~/.local/lib/python3.10/site-packages/numpy/lib/npyio.py:992\u001b[0m, in \u001b[0;36m_read\u001b[0;34m(fname, delimiter, comment, quote, imaginary_unit, usecols, skiplines, max_rows, converters, ndmin, unpack, dtype, encoding)\u001b[0m\n\u001b[1;32m    990\u001b[0m     fname \u001b[38;5;241m=\u001b[39m os\u001b[38;5;241m.\u001b[39mfspath(fname)\n\u001b[1;32m    991\u001b[0m \u001b[38;5;28;01mif\u001b[39;00m \u001b[38;5;28misinstance\u001b[39m(fname, \u001b[38;5;28mstr\u001b[39m):\n\u001b[0;32m--> 992\u001b[0m     fh \u001b[38;5;241m=\u001b[39m \u001b[43mnp\u001b[49m\u001b[38;5;241;43m.\u001b[39;49m\u001b[43mlib\u001b[49m\u001b[38;5;241;43m.\u001b[39;49m\u001b[43m_datasource\u001b[49m\u001b[38;5;241;43m.\u001b[39;49m\u001b[43mopen\u001b[49m\u001b[43m(\u001b[49m\u001b[43mfname\u001b[49m\u001b[43m,\u001b[49m\u001b[43m \u001b[49m\u001b[38;5;124;43m'\u001b[39;49m\u001b[38;5;124;43mrt\u001b[39;49m\u001b[38;5;124;43m'\u001b[39;49m\u001b[43m,\u001b[49m\u001b[43m \u001b[49m\u001b[43mencoding\u001b[49m\u001b[38;5;241;43m=\u001b[39;49m\u001b[43mencoding\u001b[49m\u001b[43m)\u001b[49m\n\u001b[1;32m    993\u001b[0m     \u001b[38;5;28;01mif\u001b[39;00m encoding \u001b[38;5;129;01mis\u001b[39;00m \u001b[38;5;28;01mNone\u001b[39;00m:\n\u001b[1;32m    994\u001b[0m         encoding \u001b[38;5;241m=\u001b[39m \u001b[38;5;28mgetattr\u001b[39m(fh, \u001b[38;5;124m'\u001b[39m\u001b[38;5;124mencoding\u001b[39m\u001b[38;5;124m'\u001b[39m, \u001b[38;5;124m'\u001b[39m\u001b[38;5;124mlatin1\u001b[39m\u001b[38;5;124m'\u001b[39m)\n",
      "File \u001b[0;32m~/.local/lib/python3.10/site-packages/numpy/lib/_datasource.py:193\u001b[0m, in \u001b[0;36mopen\u001b[0;34m(path, mode, destpath, encoding, newline)\u001b[0m\n\u001b[1;32m    156\u001b[0m \u001b[38;5;250m\u001b[39m\u001b[38;5;124;03m\"\"\"\u001b[39;00m\n\u001b[1;32m    157\u001b[0m \u001b[38;5;124;03mOpen `path` with `mode` and return the file object.\u001b[39;00m\n\u001b[1;32m    158\u001b[0m \n\u001b[0;32m   (...)\u001b[0m\n\u001b[1;32m    189\u001b[0m \n\u001b[1;32m    190\u001b[0m \u001b[38;5;124;03m\"\"\"\u001b[39;00m\n\u001b[1;32m    192\u001b[0m ds \u001b[38;5;241m=\u001b[39m DataSource(destpath)\n\u001b[0;32m--> 193\u001b[0m \u001b[38;5;28;01mreturn\u001b[39;00m \u001b[43mds\u001b[49m\u001b[38;5;241;43m.\u001b[39;49m\u001b[43mopen\u001b[49m\u001b[43m(\u001b[49m\u001b[43mpath\u001b[49m\u001b[43m,\u001b[49m\u001b[43m \u001b[49m\u001b[43mmode\u001b[49m\u001b[43m,\u001b[49m\u001b[43m \u001b[49m\u001b[43mencoding\u001b[49m\u001b[38;5;241;43m=\u001b[39;49m\u001b[43mencoding\u001b[49m\u001b[43m,\u001b[49m\u001b[43m \u001b[49m\u001b[43mnewline\u001b[49m\u001b[38;5;241;43m=\u001b[39;49m\u001b[43mnewline\u001b[49m\u001b[43m)\u001b[49m\n",
      "File \u001b[0;32m~/.local/lib/python3.10/site-packages/numpy/lib/_datasource.py:533\u001b[0m, in \u001b[0;36mDataSource.open\u001b[0;34m(self, path, mode, encoding, newline)\u001b[0m\n\u001b[1;32m    530\u001b[0m     \u001b[38;5;28;01mreturn\u001b[39;00m _file_openers[ext](found, mode\u001b[38;5;241m=\u001b[39mmode,\n\u001b[1;32m    531\u001b[0m                               encoding\u001b[38;5;241m=\u001b[39mencoding, newline\u001b[38;5;241m=\u001b[39mnewline)\n\u001b[1;32m    532\u001b[0m \u001b[38;5;28;01melse\u001b[39;00m:\n\u001b[0;32m--> 533\u001b[0m     \u001b[38;5;28;01mraise\u001b[39;00m \u001b[38;5;167;01mFileNotFoundError\u001b[39;00m(\u001b[38;5;124mf\u001b[39m\u001b[38;5;124m\"\u001b[39m\u001b[38;5;132;01m{\u001b[39;00mpath\u001b[38;5;132;01m}\u001b[39;00m\u001b[38;5;124m not found.\u001b[39m\u001b[38;5;124m\"\u001b[39m)\n",
      "\u001b[0;31mFileNotFoundError\u001b[0m: results_radius_gauss_GS.dat not found."
     ]
    }
   ],
   "source": [
    "data_rad_gauss_GS = np.loadtxt(\"results_radius_gauss_GS.dat\")\n",
    "data_xyz_gauss_GS = np.loadtxt(\"results_xyz_gauss_GS.dat\")\n",
    "data_rad_gauss_ES = np.loadtxt(\"results_radius_gauss_ES.dat\")\n",
    "data_xyz_gauss_ES = np.loadtxt(\"results_xyz_gauss_ES.dat\")\n",
    "data_rad_uniform_GS = np.loadtxt(\"results_radius_uniform_GS.dat\")\n",
    "data_xyz_uniform_GS = np.loadtxt(\"results_xyz_uniform_GS.dat\")\n",
    "data_rad_uniform_ES = np.loadtxt(\"results_radius_uniform_GS.dat\")\n",
    "data_xyz_uniform_ES = np.loadtxt(\"results_xyz_uniform_GS.dat\")"
   ]
  },
  {
   "cell_type": "code",
   "execution_count": null,
   "id": "8f34decd-f416-474d-b91f-83b0133b5b48",
   "metadata": {},
   "outputs": [],
   "source": [
    "print(data_xyz_gauss_GS[:,0].mean())\n",
    "print(data_xyz_gauss_ES[:,0].mean())\n",
    "print(data_xyz_uniform_GS[:,0].mean())\n",
    "print(data_xyz_uniform_ES[:,0].mean())"
   ]
  },
  {
   "cell_type": "code",
   "execution_count": null,
   "id": "098291d4-a002-47c7-a5db-ca735a7751cd",
   "metadata": {},
   "outputs": [],
   "source": [
    "M = 1000000 #Number of throws\n",
    "N = 200 #Number of blocks\n",
    "L = (int)(M/N) #Number of throws per block\n",
    "x = np.arange(N) \n",
    "x *= L \n",
    "r_GS = 1.5\n",
    "r_ES = 5."
   ]
  },
  {
   "cell_type": "markdown",
   "id": "56c53fac-19fc-48b8-adbf-70e83a7327bf",
   "metadata": {},
   "source": [
    "**GROUND STATE**"
   ]
  },
  {
   "cell_type": "code",
   "execution_count": null,
   "id": "5c3fc1e9-1672-4f0a-b376-ceadc025451f",
   "metadata": {},
   "outputs": [],
   "source": [
    "#Mean\n",
    "plt.figure(figsize=(12,6))\n",
    "plt.errorbar(x,data_rad_uniform_GS[:,0]-r_GS,yerr=data_rad_uniform_GS[:,1])\n",
    "plt.axhline(y = 0, color = 'r', linestyle = '-')\n",
    "plt.xlabel('#throws')\n",
    "plt.ylabel('<r>-3/2')\n",
    "plt.title(\"Uniform\")\n",
    "plt.grid(True)\n",
    "plt.show()"
   ]
  },
  {
   "cell_type": "code",
   "execution_count": null,
   "id": "26c5502f-d7dc-44ed-85ea-a3676462817a",
   "metadata": {},
   "outputs": [],
   "source": [
    "#Mean\n",
    "plt.figure(figsize=(12,6))\n",
    "plt.errorbar(x,data_rad_gauss_GS[:,0]-r_GS,yerr=data_rad_gauss_GS[:,1])\n",
    "plt.axhline(y = 0, color = 'r', linestyle = '-')\n",
    "plt.xlabel('#throws')\n",
    "plt.ylabel('<r>-3/2')\n",
    "plt.title(\"Gaussian\")\n",
    "plt.grid(True)\n",
    "plt.show()"
   ]
  },
  {
   "cell_type": "code",
   "execution_count": null,
   "id": "1ca40e88-d596-4754-8baa-7cf8c5c754d1",
   "metadata": {},
   "outputs": [],
   "source": [
    "X=data_xyz_gauss_GS[:,1]\n",
    "Y=data_xyz_gauss_GS[:,2]\n",
    "Z=data_xyz_gauss_GS[:,3]\n",
    "fig = plt.figure(figsize=(10,10))\n",
    "ax = fig.add_subplot(projection='3d')\n",
    "ax.scatter(X, Y, Z, c=Z, marker='.')\n",
    "ax.set_xlabel('x')\n",
    "ax.set_ylabel('y')\n",
    "ax.set_zlabel('z')\n",
    "ax.view_init(10, 30)\n",
    "ax.autoscale(enable=True, axis='both', tight=True)\n",
    "ax.set_title('Stato fondamentale-Gauss',fontweight='bold',fontsize=16)\n",
    "\n",
    "plt.show()"
   ]
  },
  {
   "cell_type": "code",
   "execution_count": null,
   "id": "326f685d-e8e5-4dfe-ab6e-dbe661b58c09",
   "metadata": {},
   "outputs": [],
   "source": [
    "X=data_xyz_uniform_GS[:,1]\n",
    "Y=data_xyz_uniform_GS[:,2]\n",
    "Z=data_xyz_uniform_GS[:,3]\n",
    "fig = plt.figure(figsize=(10,10))\n",
    "ax = fig.add_subplot(projection='3d')\n",
    "ax.scatter(X, Y, Z, c=Z, marker='.')\n",
    "ax.set_xlabel('x')\n",
    "ax.set_ylabel('y')\n",
    "ax.set_zlabel('z')\n",
    "ax.view_init(10, 30)\n",
    "ax.autoscale(enable=True, axis='both', tight=True)\n",
    "ax.set_title('Stato fondamentale-Uniform',fontweight='bold',fontsize=16)\n",
    "\n",
    "plt.show()"
   ]
  },
  {
   "cell_type": "markdown",
   "id": "618a4ab7-9e5e-4a2d-bc5c-6f623c4f9933",
   "metadata": {},
   "source": [
    "**EXCITED STATE**"
   ]
  },
  {
   "cell_type": "code",
   "execution_count": null,
   "id": "e0e75d45-83c5-4f12-99ce-5b5fd81c7e14",
   "metadata": {},
   "outputs": [],
   "source": [
    "#Mean\n",
    "plt.figure(figsize=(12,6))\n",
    "plt.errorbar(x,data_rad_uniform_ES[:,0]-r_ES,yerr=data_rad_uniform_ES[:,1])\n",
    "plt.axhline(y = 0, color = 'r', linestyle = '-')\n",
    "plt.xlabel('#throws')\n",
    "plt.ylabel('<r>-5')\n",
    "plt.title(\"Uniform\")\n",
    "plt.grid(True)\n",
    "plt.show()"
   ]
  },
  {
   "cell_type": "code",
   "execution_count": null,
   "id": "96096d8f-6bbb-47e1-9968-0bdd4495bafe",
   "metadata": {},
   "outputs": [],
   "source": [
    "#Mean\n",
    "plt.figure(figsize=(12,6))\n",
    "plt.errorbar(x,data_rad_gauss_ES[:,0]-r_ES,yerr=data_rad_gauss_ES[:,1])\n",
    "plt.axhline(y = 0, color = 'r', linestyle = '-')\n",
    "plt.xlabel('#throws')\n",
    "plt.ylabel('<r>-5')\n",
    "plt.title(\"Gaussian\")\n",
    "plt.grid(True)\n",
    "plt.show()"
   ]
  },
  {
   "cell_type": "code",
   "execution_count": null,
   "id": "00b61c04-7b50-4205-b4c7-33cd61186245",
   "metadata": {},
   "outputs": [],
   "source": [
    "X=data_xyz_uniform_ES[:,1]\n",
    "Y=data_xyz_uniform_ES[:,2]\n",
    "Z=data_xyz_uniform_ES[:,3]\n",
    "fig = plt.figure(figsize=(10,10))\n",
    "ax = fig.add_subplot(projection='3d')\n",
    "ax.scatter(X, Y, Z, c=Z, marker='.')\n",
    "ax.set_xlabel('x')\n",
    "ax.set_ylabel('y')\n",
    "ax.set_zlabel('z')\n",
    "ax.view_init(10, 30)\n",
    "ax.autoscale(enable=True, axis='both', tight=True)\n",
    "ax.set_title('Stato fondamentale-Uniform',fontweight='bold',fontsize=16)\n",
    "\n",
    "plt.show()"
   ]
  },
  {
   "cell_type": "code",
   "execution_count": null,
   "id": "3130cace-9d48-4bc5-ace6-35c002e28d78",
   "metadata": {},
   "outputs": [],
   "source": [
    "X=data_xyz_gauss_ES[:,1]\n",
    "Y=data_xyz_gauss_ES[:,2]\n",
    "Z=data_xyz_gauss_ES[:,3]\n",
    "fig = plt.figure(figsize=(10,10))\n",
    "ax = fig.add_subplot(projection='3d')\n",
    "ax.scatter(X, Y, Z, c=Z, marker='.')\n",
    "ax.set_xlabel('x')\n",
    "ax.set_ylabel('y')\n",
    "ax.set_zlabel('z')\n",
    "ax.view_init(10, 30)\n",
    "ax.autoscale(enable=True, axis='both', tight=True)\n",
    "ax.set_title('Stato fondamentale-Gauss',fontweight='bold',fontsize=16)\n",
    "\n",
    "plt.show()"
   ]
  },
  {
   "cell_type": "code",
   "execution_count": null,
   "id": "4617ad46-c94a-4e56-a635-1272cf636d68",
   "metadata": {},
   "outputs": [],
   "source": [
    "#plt.figure(figsize=(12,12))\n",
    "#plt.scatter(data2[:,2],data2[:,3])\n",
    "#plt.xlabel('#throws')\n",
    "#plt.ylabel('<r>-3/2')\n",
    "#plt.grid(True)\n",
    "#plt.show()"
   ]
  },
  {
   "cell_type": "code",
   "execution_count": null,
   "id": "55e893ff-3e03-4191-8be5-ac909119eaa8",
   "metadata": {},
   "outputs": [],
   "source": []
  }
 ],
 "metadata": {
  "kernelspec": {
   "display_name": "Python 3 (ipykernel)",
   "language": "python",
   "name": "python3"
  },
  "language_info": {
   "codemirror_mode": {
    "name": "ipython",
    "version": 3
   },
   "file_extension": ".py",
   "mimetype": "text/x-python",
   "name": "python",
   "nbconvert_exporter": "python",
   "pygments_lexer": "ipython3",
   "version": "3.10.12"
  }
 },
 "nbformat": 4,
 "nbformat_minor": 5
}
