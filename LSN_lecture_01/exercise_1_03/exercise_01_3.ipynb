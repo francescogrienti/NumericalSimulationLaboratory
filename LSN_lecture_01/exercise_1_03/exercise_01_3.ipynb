{
 "cells": [
  {
   "cell_type": "markdown",
   "id": "3115c122-17ef-4f3f-a3b2-1e4caea68afa",
   "metadata": {},
   "source": [
    "**EXERCISE_01_3**"
   ]
  },
  {
   "cell_type": "code",
   "execution_count": null,
   "id": "e9f35d77-1d3e-4386-b787-5608afc6945c",
   "metadata": {},
   "outputs": [],
   "source": []
  }
 ],
 "metadata": {
  "kernelspec": {
   "display_name": "Python 3 (ipykernel)",
   "language": "python",
   "name": "python3"
  },
  "language_info": {
   "codemirror_mode": {
    "name": "ipython",
    "version": 3
   },
   "file_extension": ".py",
   "mimetype": "text/x-python",
   "name": "python",
   "nbconvert_exporter": "python",
   "pygments_lexer": "ipython3",
   "version": "3.10.12"
  }
 },
 "nbformat": 4,
 "nbformat_minor": 5
}
