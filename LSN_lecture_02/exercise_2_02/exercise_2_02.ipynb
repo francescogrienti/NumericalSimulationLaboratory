{
 "cells": [
  {
   "cell_type": "markdown",
   "id": "79d3c315-0793-4321-8f6a-22551c5946b8",
   "metadata": {},
   "source": [
    "**EXERCISE_02_2**"
   ]
  },
  {
   "cell_type": "code",
   "execution_count": 1,
   "id": "f7f31970-34d3-4715-9f05-245b6c79aec5",
   "metadata": {},
   "outputs": [],
   "source": [
    "import matplotlib\n",
    "import matplotlib.pyplot as plt\n",
    "import numpy as np\n",
    "import math\n",
    "import scipy"
   ]
  },
  {
   "cell_type": "code",
   "execution_count": 2,
   "id": "122f4ae3-5179-4c18-a9df-6841bcd63ef6",
   "metadata": {},
   "outputs": [
    {
     "name": "stderr",
     "output_type": "stream",
     "text": [
      "/tmp/ipykernel_38998/117287317.py:2: UserWarning: loadtxt: input contained no data: \"results_2.dat\"\n",
      "  data2 = np.loadtxt(\"results_2.dat\")\n"
     ]
    }
   ],
   "source": [
    "data1 = np.loadtxt(\"results_1.dat\")\n",
    "data2 = np.loadtxt(\"results_2.dat\")"
   ]
  },
  {
   "cell_type": "code",
   "execution_count": null,
   "id": "fe76ca2c-db29-4248-8644-5d2f3c5d1f4b",
   "metadata": {},
   "outputs": [],
   "source": [
    "M = 10000 #Number of throws\n",
    "N = 100 #Number of blocks\n",
    "L = (int)(M/N)#Number of throws per block\n",
    "x = np.arange(N) "
   ]
  },
  {
   "cell_type": "markdown",
   "id": "cb2d1033-cf4a-4ed9-9b3a-c2f0b78ca6d7",
   "metadata": {},
   "source": [
    "**DISCRETE 3D RANDOM WALK**"
   ]
  },
  {
   "cell_type": "code",
   "execution_count": null,
   "id": "32fed3b3-b832-4420-adb9-31f8150c91fb",
   "metadata": {},
   "outputs": [],
   "source": [
    "plt.figure(figsize=(12,6))\n",
    "plt.errorbar(x,data1[:,0],yerr=data1[:,1])\n",
    "plt.xlabel('$N_{steps}$')\n",
    "plt.ylabel('$\\sqrt{<|R_w|^2>}$')\n",
    "plt.grid(True)\n",
    "plt.show()"
   ]
  },
  {
   "cell_type": "code",
   "execution_count": null,
   "id": "536aa335-2b53-496f-b660-3ddef1a611a5",
   "metadata": {},
   "outputs": [],
   "source": [
    "plt.figure(figsize=(12,6))\n",
    "plt.scatter(x,data1[:,0])\n",
    "plt.xlabel('$N_{steps}$')\n",
    "plt.ylabel('$\\sqrt{<|R_w|^2>}$')\n",
    "plt.grid(True)\n",
    "plt.show()"
   ]
  },
  {
   "cell_type": "markdown",
   "id": "9d0a6259-c91d-40a6-8a54-bb310e4de713",
   "metadata": {},
   "source": [
    "**CONTINUOUS 3D RANDOM WALK**"
   ]
  },
  {
   "cell_type": "code",
   "execution_count": null,
   "id": "2b3eae51-7f4b-47b2-8f28-fa651cc040c6",
   "metadata": {},
   "outputs": [],
   "source": [
    "plt.figure(figsize=(12,6))\n",
    "plt.errorbar(x,data2[:,0],yerr=data2[:,1])\n",
    "plt.xlabel('$N_{steps}$')\n",
    "plt.ylabel('$\\sqrt{<|R_w|^2>}$')\n",
    "plt.grid(True)\n",
    "plt.show()"
   ]
  },
  {
   "cell_type": "code",
   "execution_count": null,
   "id": "8b19bde7-a382-44fa-949c-36b24ab5dea3",
   "metadata": {},
   "outputs": [],
   "source": []
  }
 ],
 "metadata": {
  "kernelspec": {
   "display_name": "Python 3 (ipykernel)",
   "language": "python",
   "name": "python3"
  },
  "language_info": {
   "codemirror_mode": {
    "name": "ipython",
    "version": 3
   },
   "file_extension": ".py",
   "mimetype": "text/x-python",
   "name": "python",
   "nbconvert_exporter": "python",
   "pygments_lexer": "ipython3",
   "version": "3.10.12"
  }
 },
 "nbformat": 4,
 "nbformat_minor": 5
}
