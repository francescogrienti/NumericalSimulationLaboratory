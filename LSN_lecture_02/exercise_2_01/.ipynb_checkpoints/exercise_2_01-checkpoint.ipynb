{
 "cells": [
  {
   "cell_type": "markdown",
   "id": "ed5623ca-bd0c-475a-859d-c9e3d8f86eb9",
   "metadata": {},
   "source": [
    "**EXERCISE_02_1**\n"
   ]
  },
  {
   "cell_type": "code",
   "execution_count": null,
   "id": "bfb7cc0b-a917-43b5-bf9b-98815cebf381",
   "metadata": {},
   "outputs": [],
   "source": [
    "import matplotlib\n",
    "import matplotlib.pyplot as plt\n",
    "import numpy as np\n",
    "import math\n",
    "import scipy"
   ]
  },
  {
   "cell_type": "markdown",
   "id": "d2ec1c90-2595-4631-bc62-8470e2b271e4",
   "metadata": {},
   "source": [
    "**1 - Sampling a uniform distribution in [0,1)**"
   ]
  },
  {
   "cell_type": "code",
   "execution_count": null,
   "id": "48f3d231-77b9-4ec2-aa2e-f012db31a449",
   "metadata": {},
   "outputs": [],
   "source": [
    "data1 = np.loadtxt(\"results_1.dat\")"
   ]
  },
  {
   "cell_type": "code",
   "execution_count": null,
   "id": "1aeca46e-5a0e-4f42-87e8-2987c8da408e",
   "metadata": {},
   "outputs": [],
   "source": [
    "#Parameters\n",
    "M = 100000 #Number of throws\n",
    "N = 100 #Number of blocks\n",
    "L = (int)(M/N) #Number of throws per block\n",
    "x = np.arange(N) \n",
    "x *= L \n",
    "I = 1."
   ]
  },
  {
   "cell_type": "markdown",
   "id": "03fcc4b6-9136-4bd1-8170-31b8f6e801b1",
   "metadata": {},
   "source": [
    "**Evaluation of 10^4 integrals**"
   ]
  },
  {
   "cell_type": "code",
   "execution_count": null,
   "id": "70001209-5ac3-4cd0-9240-38b9ee3f61b5",
   "metadata": {},
   "outputs": [],
   "source": [
    "#Mean\n",
    "plt.figure(figsize=(12,6))\n",
    "plt.errorbar(x,data1[:,0]-I,yerr=data1[:,1])\n",
    "plt.axhline(y = 0., color = 'r', linestyle = '-')\n",
    "plt.xlabel('#throws')\n",
    "plt.ylabel('<I>-1')\n",
    "plt.grid(True)\n",
    "plt.show()"
   ]
  },
  {
   "cell_type": "code",
   "execution_count": null,
   "id": "2e1b29c8-b6a7-4ece-8258-6eb05dc8f56b",
   "metadata": {},
   "outputs": [],
   "source": [
    "plt.figure(figsize=(12,6))\n",
    "plt.scatter(x,data1[:,0]-I, color=\"red\")\n",
    "plt.xlabel('#throws')\n",
    "plt.ylabel('<I>-1')\n",
    "plt.grid(True)\n",
    "plt.show()"
   ]
  },
  {
   "cell_type": "code",
   "execution_count": null,
   "id": "5a8500dc-1adf-4a5d-8ec7-a02f408aede0",
   "metadata": {},
   "outputs": [],
   "source": [
    "plt.figure(figsize=(12,6))\n",
    "plt.plot(x,data1[:,0]-I, color=\"green\")\n",
    "plt.xlabel('#throws')\n",
    "plt.ylabel('<I>-1')\n",
    "plt.grid(True)\n",
    "plt.show()"
   ]
  },
  {
   "cell_type": "markdown",
   "id": "249f5070-b88a-41f7-a66e-8e516ef11222",
   "metadata": {},
   "source": [
    "**2 - Using importance sampling(i.e. sampling a non-uniform probability in [0,1))**"
   ]
  },
  {
   "cell_type": "code",
   "execution_count": null,
   "id": "049eba12-42f0-4eaf-a475-d0b2ae08dc7d",
   "metadata": {},
   "outputs": [],
   "source": [
    "data2 = np.loadtxt(\"results_2.dat\")"
   ]
  },
  {
   "cell_type": "code",
   "execution_count": null,
   "id": "b081e94e-d464-45aa-a8e7-efa78ee12e5d",
   "metadata": {},
   "outputs": [],
   "source": [
    "#Mean\n",
    "plt.figure(figsize=(12,6))\n",
    "plt.errorbar(x,data2[:,0]-I,yerr=data2[:,1])\n",
    "plt.axhline(y = 0., color = 'r', linestyle = '-')\n",
    "plt.xlabel('#throws')\n",
    "plt.ylabel('<I>-1')\n",
    "plt.grid(True)\n",
    "plt.show()"
   ]
  },
  {
   "cell_type": "code",
   "execution_count": null,
   "id": "c041efab-9fd5-4e1f-8c02-0d085dc62f6b",
   "metadata": {},
   "outputs": [],
   "source": [
    "plt.figure(figsize=(12,6))\n",
    "plt.scatter(x,data2[:,0]-I, color=\"red\")\n",
    "plt.xlabel('#throws')\n",
    "plt.ylabel('<I>-1')\n",
    "plt.grid(True)\n",
    "plt.show()"
   ]
  },
  {
   "cell_type": "code",
   "execution_count": null,
   "id": "b84682d7-9139-42c2-873c-c44c84265a13",
   "metadata": {},
   "outputs": [],
   "source": [
    "plt.figure(figsize=(12,6))\n",
    "plt.plot(x,data2[:,0]-I, color=\"green\")\n",
    "plt.xlabel('#throws')\n",
    "plt.ylabel('<I>-1')\n",
    "plt.grid(True)\n",
    "plt.show()"
   ]
  },
  {
   "cell_type": "markdown",
   "id": "3187f7d7-2a86-425c-b9d8-47678ebf41bd",
   "metadata": {},
   "source": [
    "**Evaluation of 10^4 points**"
   ]
  },
  {
   "cell_type": "code",
   "execution_count": null,
   "id": "577e9916-a0b0-4da8-ade8-d8f88aa41110",
   "metadata": {},
   "outputs": [],
   "source": [
    "data3 = np.loadtxt(\"results_3.dat\")"
   ]
  },
  {
   "cell_type": "code",
   "execution_count": null,
   "id": "8ee51f0b-f74d-4a0a-bdfc-c17dcad87040",
   "metadata": {},
   "outputs": [],
   "source": [
    "#Mean\n",
    "plt.figure(figsize=(12,6))\n",
    "plt.errorbar(x,data3[:,0]-I,yerr=data3[:,1])\n",
    "plt.axhline(y = 0., color = 'r', linestyle = '-')\n",
    "plt.xlabel('#throws')\n",
    "plt.ylabel('<I>-1')\n",
    "plt.grid(True)\n",
    "plt.show()"
   ]
  },
  {
   "cell_type": "code",
   "execution_count": null,
   "id": "b61fdd3f-48f4-4bf6-a276-2d37e8c8462a",
   "metadata": {},
   "outputs": [],
   "source": [
    "data4 = np.loadtxt(\"results_4.dat\")"
   ]
  },
  {
   "cell_type": "code",
   "execution_count": null,
   "id": "fd2fcf16-24ac-4f17-9e67-408b07f6ffba",
   "metadata": {},
   "outputs": [],
   "source": [
    "#Mean\n",
    "plt.figure(figsize=(12,6))\n",
    "plt.errorbar(x,data4[:,0]-I,yerr=data4[:,1])\n",
    "plt.axhline(y = 0., color = 'r', linestyle = '-')\n",
    "plt.xlabel('#throws')\n",
    "plt.ylabel('<I>-1')\n",
    "plt.grid(True)\n",
    "plt.show()"
   ]
  },
  {
   "cell_type": "code",
   "execution_count": null,
   "id": "9716edcc-ce4c-424f-980d-a778ec111564",
   "metadata": {},
   "outputs": [],
   "source": []
  }
 ],
 "metadata": {
  "kernelspec": {
   "display_name": "Python 3 (ipykernel)",
   "language": "python",
   "name": "python3"
  },
  "language_info": {
   "codemirror_mode": {
    "name": "ipython",
    "version": 3
   },
   "file_extension": ".py",
   "mimetype": "text/x-python",
   "name": "python",
   "nbconvert_exporter": "python",
   "pygments_lexer": "ipython3",
   "version": "3.10.12"
  }
 },
 "nbformat": 4,
 "nbformat_minor": 5
}
