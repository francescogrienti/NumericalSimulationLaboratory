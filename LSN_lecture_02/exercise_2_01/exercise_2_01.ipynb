{
 "cells": [
  {
   "cell_type": "markdown",
   "id": "ed5623ca-bd0c-475a-859d-c9e3d8f86eb9",
   "metadata": {},
   "source": [
    "**EXERCISE_02_1**\n"
   ]
  },
  {
   "cell_type": "code",
   "execution_count": 4,
   "id": "bfb7cc0b-a917-43b5-bf9b-98815cebf381",
   "metadata": {},
   "outputs": [],
   "source": [
    "import matplotlib\n",
    "import matplotlib.pyplot as plt\n",
    "import numpy as np\n",
    "import math\n",
    "import scipy\n",
    "import os "
   ]
  },
  {
   "cell_type": "code",
   "execution_count": 6,
   "id": "48f3d231-77b9-4ec2-aa2e-f012db31a449",
   "metadata": {},
   "outputs": [
    {
     "name": "stdout",
     "output_type": "stream",
     "text": [
      "/home/francesco/NumericalSimulationLaboratory/LSN_lecture_02\n"
     ]
    }
   ],
   "source": [
    "print(os.getcwd())"
   ]
  },
  {
   "cell_type": "code",
   "execution_count": null,
   "id": "1aeca46e-5a0e-4f42-87e8-2987c8da408e",
   "metadata": {},
   "outputs": [],
   "source": [
    "#Parameters\n",
    "M = 100000 #Number of throws\n",
    "N = 100 #Number of blocks\n",
    "L = (int)(M/N)#Number of throws per block\n",
    "x = np.arange(N) \n",
    "x *= L \n",
    "mu = 0.5\n",
    "var = 1/12"
   ]
  },
  {
   "cell_type": "code",
   "execution_count": null,
   "id": "70001209-5ac3-4cd0-9240-38b9ee3f61b5",
   "metadata": {},
   "outputs": [],
   "source": [
    "#Mean\n",
    "plt.figure(figsize=(12,6))\n",
    "plt.errorbar(x,data1[:,0]-mu,yerr=data1[:,1])\n",
    "plt.plot(x,data1[:,0]-mu, color=\"red\")\n",
    "plt.xlabel('#throws')\n",
    "plt.ylabel('<r>-1/2')\n",
    "plt.grid(True)\n",
    "plt.show()"
   ]
  },
  {
   "cell_type": "code",
   "execution_count": null,
   "id": "2e1b29c8-b6a7-4ece-8258-6eb05dc8f56b",
   "metadata": {},
   "outputs": [],
   "source": [
    "plt.figure(figsize=(12,6))\n",
    "plt.plot(x,data1[:,0]-mu, color=\"red\")\n",
    "plt.xlabel('#throws')\n",
    "plt.ylabel('<r>-1/2')\n",
    "plt.grid(True)\n",
    "plt.show()"
   ]
  }
 ],
 "metadata": {
  "kernelspec": {
   "display_name": "Python 3 (ipykernel)",
   "language": "python",
   "name": "python3"
  },
  "language_info": {
   "codemirror_mode": {
    "name": "ipython",
    "version": 3
   },
   "file_extension": ".py",
   "mimetype": "text/x-python",
   "name": "python",
   "nbconvert_exporter": "python",
   "pygments_lexer": "ipython3",
   "version": "3.10.12"
  }
 },
 "nbformat": 4,
 "nbformat_minor": 5
}
